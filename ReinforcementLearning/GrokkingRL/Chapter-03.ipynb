{
 "cells": [
  {
   "cell_type": "markdown",
   "metadata": {},
   "source": [
    "## Balancing immediate and long-term goals"
   ]
  },
  {
   "cell_type": "code",
   "execution_count": 49,
   "metadata": {},
   "outputs": [],
   "source": [
    "import warnings; warnings.filterwarnings(action='ignore')\n",
    "\n",
    "import gym\n",
    "import numpy as np\n",
    "\n",
    "import random\n",
    "\n",
    "np.set_printoptions(suppress=True)\n",
    "random.seed(123); np.random.seed(123)"
   ]
  },
  {
   "cell_type": "code",
   "execution_count": 50,
   "metadata": {},
   "outputs": [],
   "source": [
    "def print_policy(pi, P, action_symbols=('<', 'v', '>', '^'), n_cols=4, title=\"Policy:\"):\n",
    "    print(title)\n",
    "    arrs = {k:v for k, v in enumerate(action_symbols)}\n",
    "    for s in range(len(P)):\n",
    "        a = pi(s)\n",
    "        print(\"| \", end=\"\")\n",
    "        if np.all([done for action in P[s].values() for _, _, _, done in action]):\n",
    "            print(\"\".rjust(9), end=\" \")\n",
    "        else:\n",
    "            print(str(s).zfill(2), arrs[a].rjust(6), end=\" \")\n",
    "        if (s+1)%n_cols == 0:\n",
    "            print(\"|\")"
   ]
  },
  {
   "cell_type": "code",
   "execution_count": 51,
   "metadata": {},
   "outputs": [],
   "source": [
    "def print_state_value_function(V, P, n_cols=4, prec=3, title=\"State-value function:\"):\n",
    "    print(title)\n",
    "    for s in range(len(P)):\n",
    "        v = V[s]\n",
    "        print(\"| \", end=\"\")\n",
    "        if np.all([done for action in P[s].values() for _, _, _, done in action]):\n",
    "            print(\"\".rjust(9), end=\" \")\n",
    "        else:\n",
    "            print(str(s).zfill(2), f\"{np.round(v, prec)}\".rjust(6), end=\" \")\n",
    "        if (s+1)%n_cols == 0:\n",
    "            print(\"|\")"
   ]
  },
  {
   "cell_type": "code",
   "execution_count": 52,
   "metadata": {},
   "outputs": [],
   "source": [
    "from tabulate import tabulate\n",
    "def print_action_value_function(Q, optimal_Q=None, action_symbols=('<', '>'), prec=3, title='Action-value function'):\n",
    "    vf_types=('',) if optimal_Q is None else ('', '*', 'err')\n",
    "    headers = ['s',] + [' '.join(i) for i in list(itertoosl.product(vf_types, action_symbols))]\n",
    "    print(title)\n",
    "    states = np.arange(len(Q))[..., np.newaxis]\n",
    "    arr = np.hstack((states, np.round(Q, prec)))\n",
    "    if not (optimal_Q is None):\n",
    "        arr = np.hstack((arr, np.round(optimal_Q,prec), np.round(optimal_Q - Q, prec)))\n",
    "    print(tabulate(arr, headers, tablefmt=\"fancy_grid\"))"
   ]
  },
  {
   "cell_type": "code",
   "execution_count": 53,
   "metadata": {},
   "outputs": [],
   "source": [
    "def probability_success(env, pi, goal_state, n_episodes=100, max_steps=200):\n",
    "    env.seed(123)\n",
    "    results = []\n",
    "    for _ in range(n_episodes):\n",
    "        state, done, steps = env.reset(), False, 0\n",
    "        while not done and steps < max_steps:\n",
    "            state, _, done, _ = env.step(pi(state))\n",
    "            steps += 1\n",
    "        results.append(state == goal_state)\n",
    "    return np.sum(results)/len(results)"
   ]
  },
  {
   "cell_type": "code",
   "execution_count": 54,
   "metadata": {},
   "outputs": [],
   "source": [
    "def mean_return(env, pi, n_episodes=100, max_steps=200):\n",
    "    env.seed(123)\n",
    "    results = []\n",
    "    for _ in range(n_episodes):\n",
    "        state, done, steps = env.reset(), False, 0\n",
    "        results.append(0.)\n",
    "        while not done and steps < max_steps:\n",
    "            state, reward, done, _ = env.step(pi(state))\n",
    "            results[-1]  += reward\n",
    "            steps += 1\n",
    "    return np.mean(results)"
   ]
  },
  {
   "cell_type": "markdown",
   "metadata": {},
   "source": [
    "### Frozen Lake MDP and sample policies"
   ]
  },
  {
   "cell_type": "code",
   "execution_count": 55,
   "metadata": {},
   "outputs": [
    {
     "name": "stdout",
     "output_type": "stream",
     "text": [
      "Policy:\n",
      "| 00      > | 01      < | 02      v | 03      ^ |\n",
      "| 04      < |           | 06      > |           |\n",
      "| 08      ^ | 09      v | 10      ^ |           |\n",
      "|           | 13      > | 14      v |           |\n",
      "Reaches goal 8.00%\n",
      "Obtains an average undiscounted return of 0.0800\n"
     ]
    }
   ],
   "source": [
    "env = gym.make('FrozenLake-v1')\n",
    "P = env.env.P\n",
    "init_state = env.reset()\n",
    "goal_state = 15\n",
    "\n",
    "LEFT, DOWN, RIGHT, UP = range(4)\n",
    "random_pi = lambda s: {\n",
    "    0: RIGHT, 1: LEFT,   2: DOWN,  3: UP,\n",
    "    4: LEFT,  5: LEFT,   6: RIGHT, 7: LEFT,\n",
    "    8: UP,    9: DOWN,   10:  UP,  11: LEFT,\n",
    "    12: LEFT, 13: RIGHT, 14: DOWN, 15: LEFT\n",
    "}[s]\n",
    "print_policy(random_pi, P)\n",
    "print(f\"Reaches goal {probability_success(env, random_pi, goal_state=goal_state)*100:.2f}%\")\n",
    "print(f\"Obtains an average undiscounted return of {mean_return(env, random_pi):.4f}\")"
   ]
  },
  {
   "cell_type": "code",
   "execution_count": 56,
   "metadata": {},
   "outputs": [
    {
     "name": "stdout",
     "output_type": "stream",
     "text": [
      "Policy:\n",
      "| 00      > | 01      > | 02      v | 03      < |\n",
      "| 04      v |           | 06      v |           |\n",
      "| 08      > | 09      > | 10      v |           |\n",
      "|           | 13      > | 14      > |           |\n",
      "Reaches goal 4.00%\n",
      "Obtains an average undiscounted return of 0.0400\n"
     ]
    }
   ],
   "source": [
    "go_get_pi = lambda s: {\n",
    "    0: RIGHT, 1: RIGHT,  2: DOWN,   3: LEFT,\n",
    "    4: DOWN,  5: LEFT,   6: DOWN,   7: LEFT,\n",
    "    8: RIGHT, 9: RIGHT,  10: DOWN,  11: LEFT,\n",
    "    12: LEFT, 13: RIGHT, 14: RIGHT, 15: LEFT\n",
    "}[s]\n",
    "print_policy(go_get_pi, P)\n",
    "print(f\"Reaches goal {probability_success(env, go_get_pi, goal_state=goal_state)*100:.2f}%\")\n",
    "print(f\"Obtains an average undiscounted return of {mean_return(env, go_get_pi):.4f}\")"
   ]
  },
  {
   "cell_type": "code",
   "execution_count": 57,
   "metadata": {},
   "outputs": [
    {
     "name": "stdout",
     "output_type": "stream",
     "text": [
      "Policy:\n",
      "| 00      < | 01      ^ | 02      ^ | 03      ^ |\n",
      "| 04      < |           | 06      ^ |           |\n",
      "| 08      ^ | 09      v | 10      < |           |\n",
      "|           | 13      > | 14      > |           |\n",
      "Reaches goal 56.00%\n",
      "Obtains an average undiscounted return of 0.5600\n"
     ]
    }
   ],
   "source": [
    "careful_pi = lambda s: {\n",
    "    0: LEFT,  1: UP,     2: UP,     3: UP,\n",
    "    4: LEFT,  5: LEFT,   6: UP,     7: LEFT,\n",
    "    8: UP,    9: DOWN,   10: LEFT,  11: LEFT,\n",
    "    12: LEFT, 13: RIGHT, 14: RIGHT, 15: LEFT\n",
    "}[s]\n",
    "print_policy(careful_pi, P)\n",
    "print(f\"Reaches goal {probability_success(env, careful_pi, goal_state=goal_state)*100:.2f}%\")\n",
    "print(f\"Obtains an average undiscounted return of {mean_return(env, careful_pi):.4f}\")"
   ]
  },
  {
   "cell_type": "markdown",
   "metadata": {},
   "source": [
    "### Policy Evaluation"
   ]
  },
  {
   "cell_type": "code",
   "execution_count": 58,
   "metadata": {},
   "outputs": [],
   "source": [
    "def policy_evaluation(pi, P, gamma=1., theta=1e-10):\n",
    "    prev_V = np.zeros(len(P), dtype=np.float64)\n",
    "    while True:\n",
    "        V = np.zeros(len(P), dtype=np.float64)\n",
    "        for s in range(len(P)):\n",
    "            for prob, next_state, reward, done in P[s][pi(s)]:\n",
    "                V[s] += prob*(reward + gamma*prev_V[next_state]*(not done))\n",
    "        if np.max(np.abs(prev_V - V)) < theta:\n",
    "            break\n",
    "        prev_V = V.copy()\n",
    "    return V"
   ]
  },
  {
   "cell_type": "code",
   "execution_count": 59,
   "metadata": {},
   "outputs": [
    {
     "name": "stdout",
     "output_type": "stream",
     "text": [
      "State-value function:\n",
      "| 00 0.4079 | 01 0.3754 | 02 0.3543 | 03 0.3438 |\n",
      "| 04 0.4203 |           | 06 0.1169 |           |\n",
      "| 08 0.4454 | 09  0.484 | 10 0.4328 |           |\n",
      "|           | 13 0.5884 | 14 0.7107 |           |\n"
     ]
    }
   ],
   "source": [
    "V = policy_evaluation(careful_pi, P, gamma=0.99)\n",
    "print_state_value_function(V, P, prec=4)"
   ]
  },
  {
   "cell_type": "markdown",
   "metadata": {},
   "source": [
    "### Pocliy Improvement"
   ]
  },
  {
   "cell_type": "code",
   "execution_count": 60,
   "metadata": {},
   "outputs": [],
   "source": [
    "def policy_improvement(V, P, gamma=1.):\n",
    "    Q = np.zeros((len(P), len(P[0])), dtype=np.float64)\n",
    "    for s in range(len(P)):\n",
    "        for a in range(len(P[s])):\n",
    "            for prob, next_state, reward, done in P[s][a]:\n",
    "                Q[s][a] += prob*(reward + gamma*V[next_state]*(not done))\n",
    "    new_pi = lambda s: {s:a for s, a in enumerate(np.argmax(Q, axis=1))}[s]\n",
    "    return new_pi"
   ]
  },
  {
   "cell_type": "code",
   "execution_count": 61,
   "metadata": {},
   "outputs": [
    {
     "name": "stdout",
     "output_type": "stream",
     "text": [
      "Policy:\n",
      "| 00      < | 01      ^ | 02      ^ | 03      ^ |\n",
      "| 04      < |           | 06      < |           |\n",
      "| 08      ^ | 09      v | 10      < |           |\n",
      "|           | 13      > | 14      v |           |\n",
      "Reaches goal 69.00%\n",
      "Obtains an average undiscounted return of 0.6900\n"
     ]
    }
   ],
   "source": [
    "careful_pi_plus = policy_improvement(V, P, gamma=0.99)\n",
    "print_policy(careful_pi_plus, P)\n",
    "print(f\"Reaches goal {probability_success(env, careful_pi_plus, goal_state=goal_state)*100:.2f}%\")\n",
    "print(f\"Obtains an average undiscounted return of {mean_return(env, careful_pi_plus):.4f}\")"
   ]
  },
  {
   "cell_type": "code",
   "execution_count": 62,
   "metadata": {},
   "outputs": [
    {
     "name": "stdout",
     "output_type": "stream",
     "text": [
      "State-value function:\n",
      "| 00  0.542 | 01 0.4988 | 02 0.4707 | 03 0.4569 |\n",
      "| 04 0.5585 |           | 06 0.3583 |           |\n",
      "| 08 0.5918 | 09 0.6431 | 10 0.6152 |           |\n",
      "|           | 13 0.7417 | 14 0.8628 |           |\n"
     ]
    }
   ],
   "source": [
    "new_V = policy_evaluation(careful_pi_plus, P, gamma=0.99)\n",
    "print_state_value_function(new_V, P, prec=4)"
   ]
  },
  {
   "cell_type": "code",
   "execution_count": 63,
   "metadata": {},
   "outputs": [
    {
     "name": "stdout",
     "output_type": "stream",
     "text": [
      "State-value function:\n",
      "| 00 0.1341 | 01 0.1234 | 02 0.1164 | 03  0.113 |\n",
      "| 04 0.1381 |           | 06 0.2414 |           |\n",
      "| 08 0.1464 | 09 0.1591 | 10 0.1824 |           |\n",
      "|           | 13 0.1533 | 14 0.1521 |           |\n"
     ]
    }
   ],
   "source": [
    "print_state_value_function(new_V - V, P, prec=4)"
   ]
  },
  {
   "cell_type": "markdown",
   "metadata": {},
   "source": [
    "### Alternating between evaluation and improvement"
   ]
  },
  {
   "cell_type": "code",
   "execution_count": 64,
   "metadata": {},
   "outputs": [
    {
     "name": "stdout",
     "output_type": "stream",
     "text": [
      "Policy:\n",
      "| 00      ^ | 01      ^ | 02      ^ | 03      ^ |\n",
      "| 04      ^ |           | 06      ^ |           |\n",
      "| 08      < | 09      < | 10      < |           |\n",
      "|           | 13      < | 14      < |           |\n",
      "Reaches goal 0.00%\n",
      "Obtains an average undiscounted return of 0.0000\n"
     ]
    }
   ],
   "source": [
    "adversarial_pi = lambda s: {\n",
    "    0: UP,  1: UP,     2: UP,     3: UP,\n",
    "    4: UP,  5: LEFT,   6: UP,     7: LEFT,\n",
    "    8: LEFT,    9: LEFT,   10: LEFT,  11: LEFT,\n",
    "    12: LEFT, 13: LEFT, 14: LEFT, 15: LEFT\n",
    "}[s]\n",
    "print_policy(adversarial_pi, P)\n",
    "print(f\"Reaches goal {probability_success(env, adversarial_pi, goal_state=goal_state)*100:.2f}%\")\n",
    "print(f\"Obtains an average undiscounted return of {mean_return(env, adversarial_pi):.4f}\")"
   ]
  },
  {
   "cell_type": "code",
   "execution_count": 65,
   "metadata": {},
   "outputs": [
    {
     "name": "stdout",
     "output_type": "stream",
     "text": [
      "State-value function:\n",
      "| 00    0.0 | 01    0.0 | 02    0.0 | 03    0.0 |\n",
      "| 04    0.0 |           | 06    0.0 |           |\n",
      "| 08    0.0 | 09    0.0 | 10    0.0 |           |\n",
      "|           | 13    0.0 | 14    0.0 |           |\n"
     ]
    }
   ],
   "source": [
    "V = policy_evaluation(adversarial_pi, P, gamma=0.99)\n",
    "print_state_value_function(V, P, prec=2)"
   ]
  },
  {
   "cell_type": "code",
   "execution_count": 66,
   "metadata": {},
   "outputs": [
    {
     "name": "stdout",
     "output_type": "stream",
     "text": [
      "Policy:\n",
      "| 00      < | 01      < | 02      < | 03      < |\n",
      "| 04      < |           | 06      < |           |\n",
      "| 08      < | 09      < | 10      < |           |\n",
      "|           | 13      < | 14      v |           |\n",
      "Reaches goal 0.00%\n",
      "Obtains an average undiscounted return of 0.0000\n"
     ]
    }
   ],
   "source": [
    "i_pi = policy_improvement(V, P, gamma=0.99)\n",
    "print_policy(i_pi, P)\n",
    "print(f\"Reaches goal {probability_success(env, i_pi, goal_state=goal_state)*100:.2f}%\")\n",
    "print(f\"Obtains an average undiscounted return of {mean_return(env, i_pi):.4f}\")"
   ]
  },
  {
   "cell_type": "code",
   "execution_count": 67,
   "metadata": {},
   "outputs": [
    {
     "name": "stdout",
     "output_type": "stream",
     "text": [
      "State-value function:\n",
      "| 00    0.0 | 01    0.0 | 02   0.04 | 03   0.02 |\n",
      "| 04    0.0 |           | 06   0.07 |           |\n",
      "| 08    0.0 | 09    0.0 | 10   0.19 |           |\n",
      "|           | 13    0.0 | 14    0.5 |           |\n"
     ]
    }
   ],
   "source": [
    "i_V = policy_evaluation(i_pi, P, gamma=0.99)\n",
    "print_state_value_function(i_V, P, prec=2)"
   ]
  },
  {
   "cell_type": "code",
   "execution_count": 68,
   "metadata": {},
   "outputs": [
    {
     "name": "stdout",
     "output_type": "stream",
     "text": [
      "Policy:\n",
      "| 00      < | 01      v | 02      > | 03      ^ |\n",
      "| 04      < |           | 06      < |           |\n",
      "| 08      < | 09      v | 10      < |           |\n",
      "|           | 13      v | 14      > |           |\n",
      "Reaches goal 0.00%\n",
      "Obtains an average undiscounted return of 0.0000\n"
     ]
    }
   ],
   "source": [
    "ii_pi = policy_improvement(i_V, P, gamma=0.99)\n",
    "print_policy(ii_pi, P)\n",
    "print(f\"Reaches goal {probability_success(env, ii_pi, goal_state=goal_state)*100:.2f}%\")\n",
    "print(f\"Obtains an average undiscounted return of {mean_return(env, ii_pi):.4f}\")"
   ]
  },
  {
   "cell_type": "code",
   "execution_count": 69,
   "metadata": {},
   "outputs": [
    {
     "name": "stdout",
     "output_type": "stream",
     "text": [
      "State-value function:\n",
      "| 00    0.0 | 01   0.05 | 02   0.16 | 03   0.15 |\n",
      "| 04    0.0 |           | 06   0.17 |           |\n",
      "| 08    0.0 | 09   0.22 | 10   0.35 |           |\n",
      "|           | 13   0.33 | 14   0.67 |           |\n"
     ]
    }
   ],
   "source": [
    "ii_V = policy_evaluation(ii_pi, P, gamma=0.99)\n",
    "print_state_value_function(ii_V, P, prec=2)"
   ]
  },
  {
   "cell_type": "code",
   "execution_count": 70,
   "metadata": {},
   "outputs": [
    {
     "name": "stdout",
     "output_type": "stream",
     "text": [
      "Policy:\n",
      "| 00      v | 01      > | 02      > | 03      ^ |\n",
      "| 04      < |           | 06      < |           |\n",
      "| 08      v | 09      v | 10      < |           |\n",
      "|           | 13      > | 14      > |           |\n",
      "Reaches goal 19.00%\n",
      "Obtains an average undiscounted return of 0.1900\n"
     ]
    }
   ],
   "source": [
    "iii_pi = policy_improvement(ii_V, P, gamma=0.99)\n",
    "print_policy(iii_pi, P)\n",
    "print(f\"Reaches goal {probability_success(env, iii_pi, goal_state=goal_state)*100:.2f}%\")\n",
    "print(f\"Obtains an average undiscounted return of {mean_return(env, iii_pi):.4f}\")"
   ]
  },
  {
   "cell_type": "code",
   "execution_count": 71,
   "metadata": {},
   "outputs": [
    {
     "name": "stdout",
     "output_type": "stream",
     "text": [
      "State-value function:\n",
      "| 00   0.12 | 01   0.09 | 02   0.19 | 03   0.19 |\n",
      "| 04   0.15 |           | 06    0.2 |           |\n",
      "| 08   0.19 | 09   0.38 | 10   0.43 |           |\n",
      "|           | 13   0.53 | 14   0.71 |           |\n"
     ]
    }
   ],
   "source": [
    "iii_V = policy_evaluation(iii_pi, P, gamma=0.99)\n",
    "print_state_value_function(iii_V, P, prec=2)"
   ]
  },
  {
   "cell_type": "code",
   "execution_count": 72,
   "metadata": {},
   "outputs": [
    {
     "name": "stdout",
     "output_type": "stream",
     "text": [
      "Policy:\n",
      "| 00      < | 01      ^ | 02      > | 03      ^ |\n",
      "| 04      < |           | 06      < |           |\n",
      "| 08      ^ | 09      v | 10      < |           |\n",
      "|           | 13      > | 14      v |           |\n",
      "Reaches goal 66.00%\n",
      "Obtains an average undiscounted return of 0.6600\n"
     ]
    }
   ],
   "source": [
    "iiii_pi = policy_improvement(iii_V, P, gamma=0.99)\n",
    "print_policy(iiii_pi, P)\n",
    "print(f\"Reaches goal {probability_success(env, iiii_pi, goal_state=goal_state)*100:.2f}%\")\n",
    "print(f\"Obtains an average undiscounted return of {mean_return(env, iiii_pi):.4f}\")"
   ]
  },
  {
   "cell_type": "code",
   "execution_count": 73,
   "metadata": {},
   "outputs": [
    {
     "name": "stdout",
     "output_type": "stream",
     "text": [
      "State-value function:\n",
      "| 00   0.52 | 01   0.38 | 02   0.26 | 03   0.25 |\n",
      "| 04   0.54 |           | 06   0.28 |           |\n",
      "| 08   0.57 | 09   0.62 | 10   0.58 |           |\n",
      "|           | 13   0.72 | 14   0.85 |           |\n"
     ]
    }
   ],
   "source": [
    "iiii_V = policy_evaluation(iiii_pi, P, gamma=0.99)\n",
    "print_state_value_function(iiii_V, P, prec=2)"
   ]
  },
  {
   "cell_type": "markdown",
   "metadata": {},
   "source": [
    "### Policy Iteration"
   ]
  },
  {
   "cell_type": "code",
   "execution_count": 74,
   "metadata": {},
   "outputs": [],
   "source": [
    "def policy_iteration(P, gamma=1., theta=1e-10):\n",
    "    random_actions = np.random.choice(tuple(P[0].keys()), len(P))\n",
    "    pi = lambda s: {s:a for s, a in enumerate(random_actions)}[s]\n",
    "    while True:\n",
    "        old_pi = {s:pi(s) for s in range(len(P))}\n",
    "        V = policy_evaluation(pi, P, gamma, theta)\n",
    "        pi = policy_improvement(V, P, gamma)\n",
    "        if old_pi == {s:pi(s) for s in range(len(P))}:\n",
    "            break\n",
    "    return V, pi"
   ]
  },
  {
   "cell_type": "code",
   "execution_count": 75,
   "metadata": {},
   "outputs": [
    {
     "name": "stdout",
     "output_type": "stream",
     "text": [
      "Optimal policy and state-value function (PI):\n",
      "Policy:\n",
      "| 00      < | 01      ^ | 02      ^ | 03      ^ |\n",
      "| 04      < |           | 06      < |           |\n",
      "| 08      ^ | 09      v | 10      < |           |\n",
      "|           | 13      > | 14      v |           |\n",
      "Reaches goal 69.00%\n",
      "Obtains an average undiscounted return of 0.6900\n",
      "\n",
      "State-value function:\n",
      "| 00  0.542 | 01 0.4988 | 02 0.4707 | 03 0.4569 |\n",
      "| 04 0.5585 |           | 06 0.3583 |           |\n",
      "| 08 0.5918 | 09 0.6431 | 10 0.6152 |           |\n",
      "|           | 13 0.7417 | 14 0.8628 |           |\n"
     ]
    }
   ],
   "source": [
    "V_best_p, pi_best_p = policy_iteration(P, gamma=0.99)\n",
    "print(\"Optimal policy and state-value function (PI):\")\n",
    "print_policy(pi_best_p, P)\n",
    "print(f\"Reaches goal {probability_success(env, pi_best_p, goal_state=goal_state)*100:.2f}%\")\n",
    "print(f\"Obtains an average undiscounted return of {mean_return(env, pi_best_p):.4f}\")\n",
    "print()\n",
    "print_state_value_function(V_best_p, P, prec=4)"
   ]
  },
  {
   "cell_type": "markdown",
   "metadata": {},
   "source": [
    "### Value Iteration"
   ]
  },
  {
   "cell_type": "code",
   "execution_count": 76,
   "metadata": {},
   "outputs": [],
   "source": [
    "def value_iteration(P, gamma=1., theta=1e-10):\n",
    "    V = np.zeros(len(P), dtype=np.float64)\n",
    "    while True:\n",
    "        Q = np.zeros((len(P), len(P[0])), dtype=np.float64)\n",
    "        for s in range(len(P)):\n",
    "            for a in range(len(P[s])):\n",
    "                for prob, next_state, reward, done in P[s][a]:\n",
    "                    Q[s][a] += prob*(reward+gamma*V[next_state]*(not done))\n",
    "        if np.max(np.abs(V - np.max(Q, axis=1))) < theta:\n",
    "            break\n",
    "        V = np.max(Q, axis=1)\n",
    "    pi = lambda s: {s:a for s, a in enumerate(np.argmax(Q, axis=1))}[s]\n",
    "    return V, pi"
   ]
  },
  {
   "cell_type": "code",
   "execution_count": 77,
   "metadata": {},
   "outputs": [
    {
     "name": "stdout",
     "output_type": "stream",
     "text": [
      "Optimal policy and state-value function (VI)\n",
      "Policy:\n",
      "| 00      < | 01      ^ | 02      ^ | 03      ^ |\n",
      "| 04      < |           | 06      < |           |\n",
      "| 08      ^ | 09      v | 10      < |           |\n",
      "|           | 13      > | 14      v |           |\n",
      "Reaches goal 69.00%\n",
      "Obtains an average undiscounted return of 0.6900\n",
      "\n",
      "State-value function:\n",
      "| 00  0.542 | 01 0.4988 | 02 0.4707 | 03 0.4569 |\n",
      "| 04 0.5585 |           | 06 0.3583 |           |\n",
      "| 08 0.5918 | 09 0.6431 | 10 0.6152 |           |\n",
      "|           | 13 0.7417 | 14 0.8628 |           |\n"
     ]
    }
   ],
   "source": [
    "V_best_v, pi_best_v = value_iteration(P, gamma=0.99)\n",
    "print(\"Optimal policy and state-value function (VI)\")\n",
    "print_policy(pi_best_v, P)\n",
    "print(f\"Reaches goal {probability_success(env, pi_best_v, goal_state=goal_state)*100:.2f}%\")\n",
    "print(f\"Obtains an average undiscounted return of {mean_return(env, pi_best_v):.4f}\")\n",
    "print()\n",
    "print_state_value_function(V_best_v, P, prec=4)"
   ]
  },
  {
   "cell_type": "markdown",
   "metadata": {},
   "source": [
    "### Russel & Norvig's Gridworld"
   ]
  },
  {
   "cell_type": "code",
   "execution_count": null,
   "metadata": {},
   "outputs": [],
   "source": []
  }
 ],
 "metadata": {
  "interpreter": {
   "hash": "e1315e6714f2518a6216a6eec3b047587d10875bf19b853b35d3e5c84c569e2a"
  },
  "kernelspec": {
   "display_name": "Python 3.10.2 ('torch')",
   "language": "python",
   "name": "python3"
  },
  "language_info": {
   "codemirror_mode": {
    "name": "ipython",
    "version": 3
   },
   "file_extension": ".py",
   "mimetype": "text/x-python",
   "name": "python",
   "nbconvert_exporter": "python",
   "pygments_lexer": "ipython3",
   "version": "3.10.2"
  },
  "orig_nbformat": 4
 },
 "nbformat": 4,
 "nbformat_minor": 2
}
