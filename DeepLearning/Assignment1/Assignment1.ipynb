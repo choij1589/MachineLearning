{
 "metadata": {
  "language_info": {
   "codemirror_mode": {
    "name": "ipython",
    "version": 3
   },
   "file_extension": ".py",
   "mimetype": "text/x-python",
   "name": "python",
   "nbconvert_exporter": "python",
   "pygments_lexer": "ipython3",
   "version": "3.8.8-final"
  },
  "orig_nbformat": 2,
  "kernelspec": {
   "name": "python3",
   "display_name": "Python 3",
   "language": "python"
  }
 },
 "nbformat": 4,
 "nbformat_minor": 2,
 "cells": [
  {
   "cell_type": "code",
   "execution_count": 1,
   "metadata": {},
   "outputs": [
    {
     "output_type": "stream",
     "name": "stdout",
     "text": [
      "Welcome to JupyROOT 6.22/08\n"
     ]
    }
   ],
   "source": [
    "import random \n",
    "import numpy as np\n",
    "import matplotlib.pyplot as plt\n",
    "import pandas as pd\n",
    "from ROOT import TH1D, TH2D, TCanvas\n",
    "from itertools import combinations\n",
    "from sklearn.tree import DecisionTreeRegressor\n",
    "from sklearn.ensemble import RandomForestRegressor\n",
    "from sklearn.metrics import mean_absolute_error as mae"
   ]
  },
  {
   "source": [
    "# Boston dataset\n",
    "### features are as below:\n",
    "- CRIM:     per capita crime rate by town\n",
    "- ZN:       proportion of residential land zoned for lots over 25,000 sq.ft.\n",
    "- INDUS:    proportion of non-retail business acres per town\n",
    "- CHAS:     Charles River dummy variable (= 1 if tract bounds river; 0 otherwise)\n",
    "- NOX:      nitric oxides concentration (parts per 10 million)\n",
    "- RM:       average number of rooms per dwelling\n",
    "- AGE:      proportion of owner-occupied units built prior to 1940\n",
    "- DIS:      weighted distances to five Boston employment centres\n",
    "- RAD:      index of accessibility to radial highways\n",
    "- TAX:      full-value property-tax rate per $10,000\n",
    "- PTRATIO:  pupil-teacher ratio by town\n",
    "- B:        1000(Bk - 0.63)^2 where Bk is the proportion of blacks by town\n",
    "- LSTAT:    % lower status of the population\n",
    "- MEDV:     Median value of owner-occupied homes in $1000's"
   ],
   "cell_type": "markdown",
   "metadata": {}
  },
  {
   "cell_type": "code",
   "execution_count": 2,
   "metadata": {},
   "outputs": [],
   "source": [
    "# read datasets\n",
    "cols = [\"CRIM\",\"ZN\",\"INDUS\",\"CHAS\",\"NOX\",\"RM\",\"AGE\",\"DIS\",\"RAD\",\"TAX\",\"PTRATIO\",\"B\",\"LSTAT\",\"MEDV\"]\n",
    "\n",
    "original_data = pd.read_csv(\"data/housing_100x.csv\", header=None, names=cols).iloc[1:, :]       \n",
    "confused_data = pd.read_csv(\"data/housing_100x_outlier_missing.csv\", header=None, names=cols).iloc[1:, :]\n"
   ]
  },
  {
   "cell_type": "code",
   "execution_count": 3,
   "metadata": {},
   "outputs": [
    {
     "output_type": "display_data",
     "data": {
      "image/png": "[encoded data removed]",
      "text/plain": "<IPython.core.display.Image object>"
     },
     "metadata": {}
    }
   ],
   "source": [
    "# Let's see how the data looks like first\n",
    "hists = dict()\n",
    "hists[\"CRIM\"] = TH1D(\"CRIM\", \"\", 100, 0., 100.)\n",
    "hists[\"ZN\"] = TH1D(\"ZN\", \"\", 100, 0., 100.)\n",
    "hists[\"INDUS\"] = TH1D(\"INDUS\", \"\", 30, 0., 30.)\n",
    "hists[\"CHAS\"] = TH1D(\"CHAS\", \"\", 100, 0., 1.)\n",
    "hists[\"NOX\"] = TH1D(\"NOX\", \"\", 100, 0., 1.)\n",
    "hists[\"RM\"] = TH1D(\"RM\", \"\", 100, 0., 10.)\n",
    "hists[\"AGE\"] = TH1D(\"AGE\", \"\", 140, 0., 140.)\n",
    "hists[\"DIS\"] = TH1D(\"DIS\", \"\", 15, 0., 15.)\n",
    "hists[\"RAD\"] = TH1D(\"RAD\", \"\", 25, 0., 25.)\n",
    "hists[\"TAX\"] = TH1D(\"TAX\", \"\", 720, 0., 720.)\n",
    "hists[\"PTRATIO\"] = TH1D(\"PTRATIO\", \"\", 25, 0., 25.)\n",
    "hists[\"B\"] = TH1D(\"B\", \"\", 600, 0., 600.)\n",
    "hists[\"LSTAT\"] = TH1D(\"LSTAT\", \"\", 40, 0., 40.)\n",
    "hists[\"MEDV\"] = TH1D(\"MEDV\", \"\", 50, 0., 50.)\n",
    "\n",
    "for i in range(len(cols)):\n",
    "    feature = cols[i]\n",
    "    for idx in confused_data.index:\n",
    "        hists[feature].Fill(confused_data.loc[idx, feature])\n",
    "        hists[feature].SetLineColor(4)\n",
    "        hists[feature].SetLineWidth(2)\n",
    "\n",
    "# correlation matrix\n",
    "data = np.vstack([confused_data.iloc[:, i].to_numpy() for i in range(len(cols))])\n",
    "corr = np.corrcoef(data)\n",
    "hist_corr = TH2D(\"Correlation Matrix\", \"\", 14, 0., 14., 14, 0., 14.)\n",
    "hist_corr.SetStats(0)\n",
    "for i in range(14):\n",
    "    for j in range(14):\n",
    "        hist_corr.Fill(i, j, corr[i][j])\n",
    "\n",
    "cvs = TCanvas(\"cvs\", \"\", 400, 400)\n",
    "cvs.cd()\n",
    "hists[\"CRIM\"].Draw(\"hist\")\n",
    "#hist_corr.Draw(\"colz\")\n",
    "cvs.Draw()"
   ]
  },
  {
   "cell_type": "code",
   "execution_count": 4,
   "metadata": {},
   "outputs": [],
   "source": [
    "# bounds should consider physical meanings of variables\n",
    "# no cut for MEDV, we have to expect the value\n",
    "lower_bounds = {\n",
    "    \"CRIM\": 0.,\n",
    "    \"ZN\": 0.,\n",
    "    \"INDUS\": 0.,\n",
    "    \"CHAS\": 0,\n",
    "    \"NOX\": 0.3,\n",
    "    \"RM\": 4.,\n",
    "    \"AGE\": 0.,\n",
    "    \"DIS\": 1., \n",
    "    \"RAD\": 0., \n",
    "    \"TAX\": 100.,\n",
    "    \"PTRATIO\": 10., \n",
    "    \"B\": 300., \n",
    "    \"LSTAT\": 0.,\n",
    "    \"MEDV\": 0.,\n",
    "}\n",
    "upper_bounds = {\n",
    "    \"CRIM\": 20.,\n",
    "    \"ZN\": 100.,\n",
    "    \"INDUS\": 30.,\n",
    "    \"CHAS\": 1,\n",
    "    \"NOX\": 0.9,\n",
    "    \"RM\": 9.,\n",
    "    \"AGE\": 100.,\n",
    "    \"DIS\": 12., \n",
    "    \"RAD\": 25., \n",
    "    \"TAX\": 750.,\n",
    "    \"PTRATIO\": 25., \n",
    "    \"B\": 420.,\n",
    "    \"LSTAT\": 40., \n",
    "    \"MEDV\": 50.,\n",
    "}"
   ]
  },
  {
   "cell_type": "code",
   "execution_count": 5,
   "metadata": {},
   "outputs": [],
   "source": [
    "fixed_outlier_data = confused_data.copy()\n",
    "\n",
    "for feature in cols:\n",
    "    for idx in confused_data.index:\n",
    "        lower = lower_bounds[feature]\n",
    "        upper = upper_bounds[feature]\n",
    "\n",
    "        # CHAS should be 0 or 1, round the value\n",
    "        # RAD should be an ingeger index between 0 and 24, change float to int\n",
    "        if feature == \"CHAS\":\n",
    "            fixed_outlier_data.loc[idx, \"CHAS\"] = int(round(confused_data.loc[idx, \"CHAS\"]))\n",
    "        elif feature == \"RAD\":\n",
    "            fixed_outlier_data.loc[idx, \"RAD\"] = int(confused_data.loc[idx, \"RAD\"])\n",
    "        else:\n",
    "            pass\n",
    "        \n",
    "        # -1 will be also fixed\n",
    "        if not (lower <= confused_data.loc[idx, feature] and confused_data.loc[idx, feature] <= upper):\n",
    "            fixed_outlier_data.loc[idx, feature] = np.nan\n",
    "fixed_missing_data = fixed_outlier_data.interpolate(method=\"linear\") \n",
    "preprocessed_data = fixed_missing_data.copy()   # will use this one\n"
   ]
  },
  {
   "cell_type": "code",
   "execution_count": 6,
   "metadata": {},
   "outputs": [],
   "source": [
    "# Divide train and test dataset\n",
    "shuffled_data =preprocessed_data.sample(frac=1).reset_index(drop=True)\n",
    "train_ratio = 0.7\n",
    "cut = int(len(shuffled_data)*train_ratio)\n",
    "train_data = shuffled_data.loc[:cut, :].to_numpy()\n",
    "test_data =  shuffled_data.loc[cut:, :].to_numpy()"
   ]
  },
  {
   "cell_type": "code",
   "execution_count": 7,
   "metadata": {},
   "outputs": [],
   "source": [
    "# Split a dataset based on an attribute and an attribute value\n",
    "# implement a split method that seperate the dataset into the left branch and the right branch\n",
    "def branch_split(index, value, dataset):\n",
    "    left, right = list(), list()\n",
    "    for row in dataset:\n",
    "        if row[index] > value:\n",
    "            right.append(row)\n",
    "        else:\n",
    "            left.append(row)\n",
    "        # todo code\n",
    "    return left, right\n",
    "\n",
    "# implement the standard deviation method to select the splitting point\n",
    "def std_index(groups, total):\n",
    "    # get total\n",
    "    # use MEDV for learning \n",
    "    if len(groups[0]) == 0 or len(groups[1]) == 0:\n",
    "        return 0.\n",
    "    left_and_right = np.array(groups[0][-1] + groups[1][-1])\n",
    "    left = np.array(groups[0][-1])\n",
    "    right = np.array(groups[1][-1])\n",
    "    all_std = np.var(left_and_right)*len(left_and_right)\n",
    "    left_std = np.var(left)*len(left)\n",
    "    right_std = np.var(right)*len(right)\n",
    "    s_total = all_std - (left_std+right_std)\n",
    "    return s_total\n",
    "\n",
    "# Select the best split point for a dataset\n",
    "def get_split(dataset, c_idx=None):\n",
    "    dt_length = len(dataset)\n",
    "    b_index, b_value, b_score, b_groups = -1, -1., 0., None\n",
    "    # loop over this column index to find split points\n",
    "    if c_idx is None:\n",
    "        c_idx = list(range(len(dataset[0])-1));\n",
    "    for index in c_idx:\n",
    "        for row in dataset:\n",
    "            # get left | right at the current row-index\n",
    "            groups = branch_split(index, row[index], dataset)\n",
    "            std_score = std_index(groups, dt_length)\n",
    "            matching_criteria = False\n",
    "            if std_score > b_score:\n",
    "                matching_criteria = True\n",
    "            if matching_criteria:\n",
    "                b_index, b_value, b_score, b_groups = index, row[index], b_score, groups\n",
    "    return {'index':b_index, 'value':b_value, 'groups':b_groups}"
   ]
  },
  {
   "cell_type": "code",
   "execution_count": 8,
   "metadata": {},
   "outputs": [],
   "source": [
    "# Create a terminal node value \n",
    "# generate the prediction result if the tree reaches to this leaf\n",
    "def to_terminal(group):\n",
    "    labels = [row[-1] for row in group]\n",
    "    # implement the aggregation method => make prediction\n",
    "    outputs = np.mean(labels)\n",
    "    return outputs\n",
    "\n",
    "# Create child splits for a node or make terminal\n",
    "def split(node, max_depth, min_size, depth, c_idx=None):\n",
    "    left, right = node['groups']\n",
    "    del(node['groups'])\n",
    "    # check for a no split\n",
    "    if not left or not right:\n",
    "        node['left'] = node['right'] = to_terminal(left + right)\n",
    "        return\n",
    "    # check for max depth\n",
    "    if depth >= max_depth:\n",
    "        node['left'], node['right'] = to_terminal(left), to_terminal(right)\n",
    "        return\n",
    "    # process left child\n",
    "    if len(left) <= min_size:\n",
    "        node['left'] = to_terminal(left)\n",
    "    else:\n",
    "        node['left'] = get_split(left, c_idx)\n",
    "        split(node['left'], max_depth, min_size, depth+1, c_idx)\n",
    "    # process right child\n",
    "    if len(right) <= min_size:\n",
    "        node['right'] = to_terminal(right)\n",
    "    else:\n",
    "        node['right'] = get_split(right, c_idx)\n",
    "        split(node['right'], max_depth, min_size, depth+1, c_idx)\n",
    "\n",
    "# Build a decision tree\n",
    "def build_tree(train, max_depth, min_size, c_idx=None):\n",
    "    root = get_split(train, c_idx)\n",
    "    split(root, max_depth, min_size, 1, c_idx)\n",
    "    return root\n",
    " \n",
    "# Make a prediction with a decision tree\n",
    "def predict(node, row):\n",
    "    if row[node['index']] < node['value']:\n",
    "        if isinstance(node['left'], dict):\n",
    "            return predict(node['left'], row)\n",
    "        else:\n",
    "            return node['left']\n",
    "    else:\n",
    "        if isinstance(node['right'], dict):\n",
    "            return predict(node['right'], row)\n",
    "        else:\n",
    "            return node['right']\n",
    "\n",
    "# Classification and Regression Tree Algorithm\n",
    "def decision_tree(train, test, max_depth, min_size, c_idx=None):\n",
    "    tree = build_tree(train, max_depth, min_size, c_idx)\n",
    "    predictions = list()\n",
    "    for row in test:\n",
    "        prediction = predict(tree, row)\n",
    "        predictions.append(prediction)\n",
    "    return (predictions)\n"
   ]
  },
  {
   "cell_type": "code",
   "execution_count": 9,
   "metadata": {},
   "outputs": [],
   "source": [
    "# random forest implementation\n",
    "# 1. implement a shuffle method to shuffle train set\n",
    "# 2. implement a feature random seletion method for each tree, by that it can split branches\n",
    "# 3. implement an ensemble method to aggregate the predicted results\n",
    "\n",
    "def random_forest(n_trees, train_set, test_set, max_depth, min_size, n_features=5):\n",
    "    np.random.seed(12)\n",
    "    predictions = []\n",
    "    \n",
    "    for _ in range(n_trees):\n",
    "        features = list(range(13))\n",
    "        random.shuffle(features)\n",
    "        features = features[0:n_features]\n",
    "        predictions.append(decision_tree(train_set, test_set, max_depth, min_size, features))\n",
    "    # todo code\n",
    "    # hint: create multiple decision trees\n",
    "    # aggregate their prediction results => final results\n",
    "    predictions = np.mean(predictions, axis=0)\n",
    "    return predictions"
   ]
  },
  {
   "cell_type": "code",
   "execution_count": 10,
   "metadata": {},
   "outputs": [],
   "source": [
    "X_train, Y_train = train_data[:, :-1], train_data[:, -1]\n",
    "X_test, Y_test = test_data[:, :-1], test_data[:, -1]"
   ]
  },
  {
   "cell_type": "code",
   "execution_count": 16,
   "metadata": {
    "tags": []
   },
   "outputs": [
    {
     "output_type": "stream",
     "name": "stdout",
     "text": [
      "[35.62262976 22.94141708 24.30569493 29.55880452 15.91640887 20.3239868\n 24.00490461 31.85554236 13.55655332 18.33037185]\n[6.290615833790828, 8.641555634884357, 6.290615833790828, 3.615823643712046, 18.300349750757235, 9.839431670391315, 6.290615833790828, 3.615823643712046, 21.84959751849114, 11.751916726893015]\n[ 9.48677476  8.74232288 10.31353094  9.62997267 15.36710558 10.530207\n 14.32610523 10.12553679 12.25361714 14.57126824]\nmae loss for decision tree: 16.13\nmae loss for random forest: 12.11\n"
     ]
    }
   ],
   "source": [
    "X_train_small, Y_train_small = X_train[0:5000], Y_train[0:5000]\n",
    "X_test_small, Y_test_small = X_test[5000:5010], Y_test[5000:5010]\n",
    "\n",
    "predicted_dt = decision_tree(X_train_small, X_test_small, 5, 10, [4, 6, 10, 11, 12])\n",
    "predicted_rf = random_forest(10, X_train_small, X_test_small, 5, 10, 5)\n",
    "print(Y_test_small)\n",
    "print(predicted_dt)\n",
    "print(predicted_rf)\n",
    "print(\"mae loss for decision tree: {}\".format(round(mae(Y_test_small, predicted_dt), 2)))\n",
    "print(\"mae loss for random forest: {}\".format(round(mae(Y_test_small, predicted_rf), 2)))"
   ]
  },
  {
   "cell_type": "code",
   "execution_count": 17,
   "metadata": {
    "tags": []
   },
   "outputs": [
    {
     "output_type": "stream",
     "name": "stdout",
     "text": [
      "(2, 3, 6, 10, 11) 1.9111718236151074\n(1, 4, 7, 9, 11) 1.9276455463099305\n(3, 5, 6, 11, 12) 1.9307805991202553\n(0, 1, 3, 5, 9) 1.9322811233029964\n(5, 6, 7, 9, 12) 1.9354594146407909\n(0, 1, 4, 5, 10) 1.9386832030212755\n(0, 2, 4, 9, 12) 1.9491011432377712\n(4, 5, 8, 10, 12) 1.9539872998639958\n(1, 5, 7, 9, 11) 1.958080878005112\n(1, 2, 4, 8, 9) 1.9584213504028158\n"
     ]
    }
   ],
   "source": [
    "dict_mae = dict()\n",
    "for comb in list(combinations(list(range(13)), 5)):\n",
    "    regressor = DecisionTreeRegressor(max_depth=5, min_samples_leaf=10, max_features=5).fit(X_train, Y_train)\n",
    "    Y_pred = regressor.predict(X_test)\n",
    "    mae_loss = mae(Y_pred, Y_test)\n",
    "    dict_mae[comb] = mae_loss\n",
    "sorted_dict_mae = sorted(dict_mae.items(), key=lambda x: x[1])\n",
    "n = 0\n",
    "for pair in sorted_dict_mae:\n",
    "    n += 1\n",
    "    if n > 10:\n",
    "        break\n",
    "    print(pair[0], pair[1])"
   ]
  },
  {
   "cell_type": "code",
   "execution_count": 18,
   "metadata": {},
   "outputs": [
    {
     "output_type": "stream",
     "name": "stdout",
     "text": [
      "mae loss of decision tree:2.25\n"
     ]
    }
   ],
   "source": [
    "# define decision tree regressor\n",
    "regressor = DecisionTreeRegressor(max_depth=5, min_samples_leaf=10, max_features=5).fit(X_train, Y_train)\n",
    "Y_pred = regressor.predict(X_test)\n",
    "mae_loss = mae(Y_pred, Y_test)\n",
    "print(\"mae loss of decision tree:%.2f\" % mae_loss)\n"
   ]
  },
  {
   "cell_type": "code",
   "execution_count": 19,
   "metadata": {},
   "outputs": [
    {
     "output_type": "stream",
     "name": "stdout",
     "text": [
      "mae loss of random forest:1.69\n"
     ]
    }
   ],
   "source": [
    "# define random forest regressor\n",
    "regressor = RandomForestRegressor(n_estimators=10, max_depth=5, min_samples_leaf=10, max_features=5).fit(X_train, Y_train)\n",
    "Y_pred = regressor.predict(X_test)\n",
    "mae_loss = mae(Y_pred, Y_test)\n",
    "print(\"mae loss of random forest:%.2f\" % mae_loss)"
   ]
  },
  {
   "source": [
    "### Feature importance\n",
    "RM $\\rightarrow$ LSTAT $\\rightarrow$ INDUS $\\rightarrow$ NOX $\\rightarrow$ DIS"
   ],
   "cell_type": "markdown",
   "metadata": {}
  },
  {
   "cell_type": "code",
   "execution_count": 20,
   "metadata": {},
   "outputs": [
    {
     "output_type": "display_data",
     "data": {
      "text/plain": "<Figure size 1008x720 with 1 Axes>",
      "image/svg+xml": "<?xml version=\"1.0\" encoding=\"utf-8\" standalone=\"no\"?>\n<!DOCTYPE svg PUBLIC \"-//W3C//DTD SVG 1.1//EN\"\n  \"http://www.w3.org/Graphics/SVG/1.1/DTD/svg11.dtd\">\n<!-- Created with matplotlib (https://matplotlib.org/) -->\n<svg height=\"593.195313pt\" version=\"1.1\" viewBox=\"0 0 862.798437 593.195313\" width=\"862.798437pt\" xmlns=\"http://www.w3.org/2000/svg\" xmlns:xlink=\"http://www.w3.org/1999/xlink\">\n <metadata>\n  <rdf:RDF xmlns:cc=\"http://creativecommons.org/ns#\" xmlns:dc=\"http://purl.org/dc/elements/1.1/\" xmlns:rdf=\"http://www.w3.org/1999/02/22-rdf-syntax-ns#\">\n   <cc:Work>\n    <dc:type rdf:resource=\"http://purl.org/dc/dcmitype/StillImage\"/>\n    <dc:date>2021-04-15T16:27:31.921199</dc:date>\n    <dc:format>image/svg+xml</dc:format>\n    <dc:creator>\n     <cc:Agent>\n      <dc:title>Matplotlib v3.3.4, https://matplotlib.org/</dc:title>\n     </cc:Agent>\n    </dc:creator>\n   </cc:Work>\n  </rdf:RDF>\n </metadata>\n <defs>\n  <style type=\"text/css\">*{stroke-linecap:butt;stroke-linejoin:round;}</style>\n </defs>\n <g id=\"figure_1\">\n  <g id=\"patch_1\">\n   <path d=\"M 0 593.195313 \nL 862.798437 593.195313 \nL 862.798437 0 \nL 0 0 \nz\n\" style=\"fill:none;\"/>\n  </g>\n  <g id=\"axes_1\">\n   <g id=\"patch_2\">\n    <path d=\"M 74.398438 550.8 \nL 855.598438 550.8 \nL 855.598438 7.2 \nL 74.398438 7.2 \nz\n\" style=\"fill:#ffffff;\"/>\n   </g>\n   <g id=\"patch_3\">\n    <path clip-path=\"url(#pfe392ea30f)\" d=\"M 74.398438 527.502857 \nL 119.452575 527.502857 \nL 119.452575 496.44 \nL 74.398438 496.44 \nz\n\" style=\"fill:#1f77b4;\"/>\n   </g>\n   <g id=\"patch_4\">\n    <path clip-path=\"url(#pfe392ea30f)\" d=\"M 74.398438 488.674286 \nL 76.336415 488.674286 \nL 76.336415 457.611429 \nL 74.398438 457.611429 \nz\n\" style=\"fill:#1f77b4;\"/>\n   </g>\n   <g id=\"patch_5\">\n    <path clip-path=\"url(#pfe392ea30f)\" d=\"M 74.398438 449.845714 \nL 124.648681 449.845714 \nL 124.648681 418.782857 \nL 74.398438 418.782857 \nz\n\" style=\"fill:#1f77b4;\"/>\n   </g>\n   <g id=\"patch_6\">\n    <path clip-path=\"url(#pfe392ea30f)\" d=\"M 74.398438 411.017143 \nL 74.603859 411.017143 \nL 74.603859 379.954286 \nL 74.398438 379.954286 \nz\n\" style=\"fill:#1f77b4;\"/>\n   </g>\n   <g id=\"patch_7\">\n    <path clip-path=\"url(#pfe392ea30f)\" d=\"M 74.398438 372.188571 \nL 182.072005 372.188571 \nL 182.072005 341.125714 \nL 74.398438 341.125714 \nz\n\" style=\"fill:#1f77b4;\"/>\n   </g>\n   <g id=\"patch_8\">\n    <path clip-path=\"url(#pfe392ea30f)\" d=\"M 74.398438 333.36 \nL 818.398438 333.36 \nL 818.398438 302.297143 \nL 74.398438 302.297143 \nz\n\" style=\"fill:#1f77b4;\"/>\n   </g>\n   <g id=\"patch_9\">\n    <path clip-path=\"url(#pfe392ea30f)\" d=\"M 74.398438 294.531429 \nL 103.881649 294.531429 \nL 103.881649 263.468571 \nL 74.398438 263.468571 \nz\n\" style=\"fill:#1f77b4;\"/>\n   </g>\n   <g id=\"patch_10\">\n    <path clip-path=\"url(#pfe392ea30f)\" d=\"M 74.398438 255.702857 \nL 199.569658 255.702857 \nL 199.569658 224.64 \nL 74.398438 224.64 \nz\n\" style=\"fill:#1f77b4;\"/>\n   </g>\n   <g id=\"patch_11\">\n    <path clip-path=\"url(#pfe392ea30f)\" d=\"M 74.398438 216.874286 \nL 92.052865 216.874286 \nL 92.052865 185.811429 \nL 74.398438 185.811429 \nz\n\" style=\"fill:#1f77b4;\"/>\n   </g>\n   <g id=\"patch_12\">\n    <path clip-path=\"url(#pfe392ea30f)\" d=\"M 74.398438 178.045714 \nL 176.936346 178.045714 \nL 176.936346 146.982857 \nL 74.398438 146.982857 \nz\n\" style=\"fill:#1f77b4;\"/>\n   </g>\n   <g id=\"patch_13\">\n    <path clip-path=\"url(#pfe392ea30f)\" d=\"M 74.398438 139.217143 \nL 156.232337 139.217143 \nL 156.232337 108.154286 \nL 74.398438 108.154286 \nz\n\" style=\"fill:#1f77b4;\"/>\n   </g>\n   <g id=\"patch_14\">\n    <path clip-path=\"url(#pfe392ea30f)\" d=\"M 74.398438 100.388571 \nL 82.961292 100.388571 \nL 82.961292 69.325714 \nL 74.398438 69.325714 \nz\n\" style=\"fill:#1f77b4;\"/>\n   </g>\n   <g id=\"patch_15\">\n    <path clip-path=\"url(#pfe392ea30f)\" d=\"M 74.398438 61.56 \nL 804.876271 61.56 \nL 804.876271 30.497143 \nL 74.398438 30.497143 \nz\n\" style=\"fill:#1f77b4;\"/>\n   </g>\n   <g id=\"matplotlib.axis_1\">\n    <g id=\"xtick_1\">\n     <g id=\"line2d_1\">\n      <path clip-path=\"url(#pfe392ea30f)\" d=\"M 74.398438 550.8 \nL 74.398438 7.2 \n\" style=\"fill:none;stroke:#b0b0b0;stroke-linecap:square;stroke-width:0.8;\"/>\n     </g>\n     <g id=\"line2d_2\">\n      <defs>\n       <path d=\"M 0 0 \nL 0 3.5 \n\" id=\"m97c07a40ce\" style=\"stroke:#000000;stroke-width:0.8;\"/>\n      </defs>\n      <g>\n       <use style=\"stroke:#000000;stroke-width:0.8;\" x=\"74.398438\" xlink:href=\"#m97c07a40ce\" y=\"550.8\"/>\n      </g>\n     </g>\n     <g id=\"text_1\">\n      <!-- 0.00 -->\n      <g transform=\"translate(63.265625 565.398438)scale(0.1 -0.1)\">\n       <defs>\n        <path d=\"M 31.78125 66.40625 \nQ 24.171875 66.40625 20.328125 58.90625 \nQ 16.5 51.421875 16.5 36.375 \nQ 16.5 21.390625 20.328125 13.890625 \nQ 24.171875 6.390625 31.78125 6.390625 \nQ 39.453125 6.390625 43.28125 13.890625 \nQ 47.125 21.390625 47.125 36.375 \nQ 47.125 51.421875 43.28125 58.90625 \nQ 39.453125 66.40625 31.78125 66.40625 \nz\nM 31.78125 74.21875 \nQ 44.046875 74.21875 50.515625 64.515625 \nQ 56.984375 54.828125 56.984375 36.375 \nQ 56.984375 17.96875 50.515625 8.265625 \nQ 44.046875 -1.421875 31.78125 -1.421875 \nQ 19.53125 -1.421875 13.0625 8.265625 \nQ 6.59375 17.96875 6.59375 36.375 \nQ 6.59375 54.828125 13.0625 64.515625 \nQ 19.53125 74.21875 31.78125 74.21875 \nz\n\" id=\"DejaVuSans-48\"/>\n        <path d=\"M 10.6875 12.40625 \nL 21 12.40625 \nL 21 0 \nL 10.6875 0 \nz\n\" id=\"DejaVuSans-46\"/>\n       </defs>\n       <use xlink:href=\"#DejaVuSans-48\"/>\n       <use x=\"63.623047\" xlink:href=\"#DejaVuSans-46\"/>\n       <use x=\"95.410156\" xlink:href=\"#DejaVuSans-48\"/>\n       <use x=\"159.033203\" xlink:href=\"#DejaVuSans-48\"/>\n      </g>\n     </g>\n    </g>\n    <g id=\"xtick_2\">\n     <g id=\"line2d_3\">\n      <path clip-path=\"url(#pfe392ea30f)\" d=\"M 176.640573 550.8 \nL 176.640573 7.2 \n\" style=\"fill:none;stroke:#b0b0b0;stroke-linecap:square;stroke-width:0.8;\"/>\n     </g>\n     <g id=\"line2d_4\">\n      <g>\n       <use style=\"stroke:#000000;stroke-width:0.8;\" x=\"176.640573\" xlink:href=\"#m97c07a40ce\" y=\"550.8\"/>\n      </g>\n     </g>\n     <g id=\"text_2\">\n      <!-- 0.05 -->\n      <g transform=\"translate(165.50776 565.398438)scale(0.1 -0.1)\">\n       <defs>\n        <path d=\"M 10.796875 72.90625 \nL 49.515625 72.90625 \nL 49.515625 64.59375 \nL 19.828125 64.59375 \nL 19.828125 46.734375 \nQ 21.96875 47.46875 24.109375 47.828125 \nQ 26.265625 48.1875 28.421875 48.1875 \nQ 40.625 48.1875 47.75 41.5 \nQ 54.890625 34.8125 54.890625 23.390625 \nQ 54.890625 11.625 47.5625 5.09375 \nQ 40.234375 -1.421875 26.90625 -1.421875 \nQ 22.3125 -1.421875 17.546875 -0.640625 \nQ 12.796875 0.140625 7.71875 1.703125 \nL 7.71875 11.625 \nQ 12.109375 9.234375 16.796875 8.0625 \nQ 21.484375 6.890625 26.703125 6.890625 \nQ 35.15625 6.890625 40.078125 11.328125 \nQ 45.015625 15.765625 45.015625 23.390625 \nQ 45.015625 31 40.078125 35.4375 \nQ 35.15625 39.890625 26.703125 39.890625 \nQ 22.75 39.890625 18.8125 39.015625 \nQ 14.890625 38.140625 10.796875 36.28125 \nz\n\" id=\"DejaVuSans-53\"/>\n       </defs>\n       <use xlink:href=\"#DejaVuSans-48\"/>\n       <use x=\"63.623047\" xlink:href=\"#DejaVuSans-46\"/>\n       <use x=\"95.410156\" xlink:href=\"#DejaVuSans-48\"/>\n       <use x=\"159.033203\" xlink:href=\"#DejaVuSans-53\"/>\n      </g>\n     </g>\n    </g>\n    <g id=\"xtick_3\">\n     <g id=\"line2d_5\">\n      <path clip-path=\"url(#pfe392ea30f)\" d=\"M 278.882708 550.8 \nL 278.882708 7.2 \n\" style=\"fill:none;stroke:#b0b0b0;stroke-linecap:square;stroke-width:0.8;\"/>\n     </g>\n     <g id=\"line2d_6\">\n      <g>\n       <use style=\"stroke:#000000;stroke-width:0.8;\" x=\"278.882708\" xlink:href=\"#m97c07a40ce\" y=\"550.8\"/>\n      </g>\n     </g>\n     <g id=\"text_3\">\n      <!-- 0.10 -->\n      <g transform=\"translate(267.749895 565.398438)scale(0.1 -0.1)\">\n       <defs>\n        <path d=\"M 12.40625 8.296875 \nL 28.515625 8.296875 \nL 28.515625 63.921875 \nL 10.984375 60.40625 \nL 10.984375 69.390625 \nL 28.421875 72.90625 \nL 38.28125 72.90625 \nL 38.28125 8.296875 \nL 54.390625 8.296875 \nL 54.390625 0 \nL 12.40625 0 \nz\n\" id=\"DejaVuSans-49\"/>\n       </defs>\n       <use xlink:href=\"#DejaVuSans-48\"/>\n       <use x=\"63.623047\" xlink:href=\"#DejaVuSans-46\"/>\n       <use x=\"95.410156\" xlink:href=\"#DejaVuSans-49\"/>\n       <use x=\"159.033203\" xlink:href=\"#DejaVuSans-48\"/>\n      </g>\n     </g>\n    </g>\n    <g id=\"xtick_4\">\n     <g id=\"line2d_7\">\n      <path clip-path=\"url(#pfe392ea30f)\" d=\"M 381.124843 550.8 \nL 381.124843 7.2 \n\" style=\"fill:none;stroke:#b0b0b0;stroke-linecap:square;stroke-width:0.8;\"/>\n     </g>\n     <g id=\"line2d_8\">\n      <g>\n       <use style=\"stroke:#000000;stroke-width:0.8;\" x=\"381.124843\" xlink:href=\"#m97c07a40ce\" y=\"550.8\"/>\n      </g>\n     </g>\n     <g id=\"text_4\">\n      <!-- 0.15 -->\n      <g transform=\"translate(369.99203 565.398438)scale(0.1 -0.1)\">\n       <use xlink:href=\"#DejaVuSans-48\"/>\n       <use x=\"63.623047\" xlink:href=\"#DejaVuSans-46\"/>\n       <use x=\"95.410156\" xlink:href=\"#DejaVuSans-49\"/>\n       <use x=\"159.033203\" xlink:href=\"#DejaVuSans-53\"/>\n      </g>\n     </g>\n    </g>\n    <g id=\"xtick_5\">\n     <g id=\"line2d_9\">\n      <path clip-path=\"url(#pfe392ea30f)\" d=\"M 483.366978 550.8 \nL 483.366978 7.2 \n\" style=\"fill:none;stroke:#b0b0b0;stroke-linecap:square;stroke-width:0.8;\"/>\n     </g>\n     <g id=\"line2d_10\">\n      <g>\n       <use style=\"stroke:#000000;stroke-width:0.8;\" x=\"483.366978\" xlink:href=\"#m97c07a40ce\" y=\"550.8\"/>\n      </g>\n     </g>\n     <g id=\"text_5\">\n      <!-- 0.20 -->\n      <g transform=\"translate(472.234166 565.398438)scale(0.1 -0.1)\">\n       <defs>\n        <path d=\"M 19.1875 8.296875 \nL 53.609375 8.296875 \nL 53.609375 0 \nL 7.328125 0 \nL 7.328125 8.296875 \nQ 12.9375 14.109375 22.625 23.890625 \nQ 32.328125 33.6875 34.8125 36.53125 \nQ 39.546875 41.84375 41.421875 45.53125 \nQ 43.3125 49.21875 43.3125 52.78125 \nQ 43.3125 58.59375 39.234375 62.25 \nQ 35.15625 65.921875 28.609375 65.921875 \nQ 23.96875 65.921875 18.8125 64.3125 \nQ 13.671875 62.703125 7.8125 59.421875 \nL 7.8125 69.390625 \nQ 13.765625 71.78125 18.9375 73 \nQ 24.125 74.21875 28.421875 74.21875 \nQ 39.75 74.21875 46.484375 68.546875 \nQ 53.21875 62.890625 53.21875 53.421875 \nQ 53.21875 48.921875 51.53125 44.890625 \nQ 49.859375 40.875 45.40625 35.40625 \nQ 44.1875 33.984375 37.640625 27.21875 \nQ 31.109375 20.453125 19.1875 8.296875 \nz\n\" id=\"DejaVuSans-50\"/>\n       </defs>\n       <use xlink:href=\"#DejaVuSans-48\"/>\n       <use x=\"63.623047\" xlink:href=\"#DejaVuSans-46\"/>\n       <use x=\"95.410156\" xlink:href=\"#DejaVuSans-50\"/>\n       <use x=\"159.033203\" xlink:href=\"#DejaVuSans-48\"/>\n      </g>\n     </g>\n    </g>\n    <g id=\"xtick_6\">\n     <g id=\"line2d_11\">\n      <path clip-path=\"url(#pfe392ea30f)\" d=\"M 585.609113 550.8 \nL 585.609113 7.2 \n\" style=\"fill:none;stroke:#b0b0b0;stroke-linecap:square;stroke-width:0.8;\"/>\n     </g>\n     <g id=\"line2d_12\">\n      <g>\n       <use style=\"stroke:#000000;stroke-width:0.8;\" x=\"585.609113\" xlink:href=\"#m97c07a40ce\" y=\"550.8\"/>\n      </g>\n     </g>\n     <g id=\"text_6\">\n      <!-- 0.25 -->\n      <g transform=\"translate(574.476301 565.398438)scale(0.1 -0.1)\">\n       <use xlink:href=\"#DejaVuSans-48\"/>\n       <use x=\"63.623047\" xlink:href=\"#DejaVuSans-46\"/>\n       <use x=\"95.410156\" xlink:href=\"#DejaVuSans-50\"/>\n       <use x=\"159.033203\" xlink:href=\"#DejaVuSans-53\"/>\n      </g>\n     </g>\n    </g>\n    <g id=\"xtick_7\">\n     <g id=\"line2d_13\">\n      <path clip-path=\"url(#pfe392ea30f)\" d=\"M 687.851248 550.8 \nL 687.851248 7.2 \n\" style=\"fill:none;stroke:#b0b0b0;stroke-linecap:square;stroke-width:0.8;\"/>\n     </g>\n     <g id=\"line2d_14\">\n      <g>\n       <use style=\"stroke:#000000;stroke-width:0.8;\" x=\"687.851248\" xlink:href=\"#m97c07a40ce\" y=\"550.8\"/>\n      </g>\n     </g>\n     <g id=\"text_7\">\n      <!-- 0.30 -->\n      <g transform=\"translate(676.718436 565.398438)scale(0.1 -0.1)\">\n       <defs>\n        <path d=\"M 40.578125 39.3125 \nQ 47.65625 37.796875 51.625 33 \nQ 55.609375 28.21875 55.609375 21.1875 \nQ 55.609375 10.40625 48.1875 4.484375 \nQ 40.765625 -1.421875 27.09375 -1.421875 \nQ 22.515625 -1.421875 17.65625 -0.515625 \nQ 12.796875 0.390625 7.625 2.203125 \nL 7.625 11.71875 \nQ 11.71875 9.328125 16.59375 8.109375 \nQ 21.484375 6.890625 26.8125 6.890625 \nQ 36.078125 6.890625 40.9375 10.546875 \nQ 45.796875 14.203125 45.796875 21.1875 \nQ 45.796875 27.640625 41.28125 31.265625 \nQ 36.765625 34.90625 28.71875 34.90625 \nL 20.21875 34.90625 \nL 20.21875 43.015625 \nL 29.109375 43.015625 \nQ 36.375 43.015625 40.234375 45.921875 \nQ 44.09375 48.828125 44.09375 54.296875 \nQ 44.09375 59.90625 40.109375 62.90625 \nQ 36.140625 65.921875 28.71875 65.921875 \nQ 24.65625 65.921875 20.015625 65.03125 \nQ 15.375 64.15625 9.8125 62.3125 \nL 9.8125 71.09375 \nQ 15.4375 72.65625 20.34375 73.4375 \nQ 25.25 74.21875 29.59375 74.21875 \nQ 40.828125 74.21875 47.359375 69.109375 \nQ 53.90625 64.015625 53.90625 55.328125 \nQ 53.90625 49.265625 50.4375 45.09375 \nQ 46.96875 40.921875 40.578125 39.3125 \nz\n\" id=\"DejaVuSans-51\"/>\n       </defs>\n       <use xlink:href=\"#DejaVuSans-48\"/>\n       <use x=\"63.623047\" xlink:href=\"#DejaVuSans-46\"/>\n       <use x=\"95.410156\" xlink:href=\"#DejaVuSans-51\"/>\n       <use x=\"159.033203\" xlink:href=\"#DejaVuSans-48\"/>\n      </g>\n     </g>\n    </g>\n    <g id=\"xtick_8\">\n     <g id=\"line2d_15\">\n      <path clip-path=\"url(#pfe392ea30f)\" d=\"M 790.093383 550.8 \nL 790.093383 7.2 \n\" style=\"fill:none;stroke:#b0b0b0;stroke-linecap:square;stroke-width:0.8;\"/>\n     </g>\n     <g id=\"line2d_16\">\n      <g>\n       <use style=\"stroke:#000000;stroke-width:0.8;\" x=\"790.093383\" xlink:href=\"#m97c07a40ce\" y=\"550.8\"/>\n      </g>\n     </g>\n     <g id=\"text_8\">\n      <!-- 0.35 -->\n      <g transform=\"translate(778.960571 565.398438)scale(0.1 -0.1)\">\n       <use xlink:href=\"#DejaVuSans-48\"/>\n       <use x=\"63.623047\" xlink:href=\"#DejaVuSans-46\"/>\n       <use x=\"95.410156\" xlink:href=\"#DejaVuSans-51\"/>\n       <use x=\"159.033203\" xlink:href=\"#DejaVuSans-53\"/>\n      </g>\n     </g>\n    </g>\n    <g id=\"text_9\">\n     <!-- feature importance -->\n     <g transform=\"translate(392.690234 582.875781)scale(0.15 -0.15)\">\n      <defs>\n       <path d=\"M 37.109375 75.984375 \nL 37.109375 68.5 \nL 28.515625 68.5 \nQ 23.6875 68.5 21.796875 66.546875 \nQ 19.921875 64.59375 19.921875 59.515625 \nL 19.921875 54.6875 \nL 34.71875 54.6875 \nL 34.71875 47.703125 \nL 19.921875 47.703125 \nL 19.921875 0 \nL 10.890625 0 \nL 10.890625 47.703125 \nL 2.296875 47.703125 \nL 2.296875 54.6875 \nL 10.890625 54.6875 \nL 10.890625 58.5 \nQ 10.890625 67.625 15.140625 71.796875 \nQ 19.390625 75.984375 28.609375 75.984375 \nz\n\" id=\"DejaVuSans-102\"/>\n       <path d=\"M 56.203125 29.59375 \nL 56.203125 25.203125 \nL 14.890625 25.203125 \nQ 15.484375 15.921875 20.484375 11.0625 \nQ 25.484375 6.203125 34.421875 6.203125 \nQ 39.59375 6.203125 44.453125 7.46875 \nQ 49.3125 8.734375 54.109375 11.28125 \nL 54.109375 2.78125 \nQ 49.265625 0.734375 44.1875 -0.34375 \nQ 39.109375 -1.421875 33.890625 -1.421875 \nQ 20.796875 -1.421875 13.15625 6.1875 \nQ 5.515625 13.8125 5.515625 26.8125 \nQ 5.515625 40.234375 12.765625 48.109375 \nQ 20.015625 56 32.328125 56 \nQ 43.359375 56 49.78125 48.890625 \nQ 56.203125 41.796875 56.203125 29.59375 \nz\nM 47.21875 32.234375 \nQ 47.125 39.59375 43.09375 43.984375 \nQ 39.0625 48.390625 32.421875 48.390625 \nQ 24.90625 48.390625 20.390625 44.140625 \nQ 15.875 39.890625 15.1875 32.171875 \nz\n\" id=\"DejaVuSans-101\"/>\n       <path d=\"M 34.28125 27.484375 \nQ 23.390625 27.484375 19.1875 25 \nQ 14.984375 22.515625 14.984375 16.5 \nQ 14.984375 11.71875 18.140625 8.90625 \nQ 21.296875 6.109375 26.703125 6.109375 \nQ 34.1875 6.109375 38.703125 11.40625 \nQ 43.21875 16.703125 43.21875 25.484375 \nL 43.21875 27.484375 \nz\nM 52.203125 31.203125 \nL 52.203125 0 \nL 43.21875 0 \nL 43.21875 8.296875 \nQ 40.140625 3.328125 35.546875 0.953125 \nQ 30.953125 -1.421875 24.3125 -1.421875 \nQ 15.921875 -1.421875 10.953125 3.296875 \nQ 6 8.015625 6 15.921875 \nQ 6 25.140625 12.171875 29.828125 \nQ 18.359375 34.515625 30.609375 34.515625 \nL 43.21875 34.515625 \nL 43.21875 35.40625 \nQ 43.21875 41.609375 39.140625 45 \nQ 35.0625 48.390625 27.6875 48.390625 \nQ 23 48.390625 18.546875 47.265625 \nQ 14.109375 46.140625 10.015625 43.890625 \nL 10.015625 52.203125 \nQ 14.9375 54.109375 19.578125 55.046875 \nQ 24.21875 56 28.609375 56 \nQ 40.484375 56 46.34375 49.84375 \nQ 52.203125 43.703125 52.203125 31.203125 \nz\n\" id=\"DejaVuSans-97\"/>\n       <path d=\"M 18.3125 70.21875 \nL 18.3125 54.6875 \nL 36.8125 54.6875 \nL 36.8125 47.703125 \nL 18.3125 47.703125 \nL 18.3125 18.015625 \nQ 18.3125 11.328125 20.140625 9.421875 \nQ 21.96875 7.515625 27.59375 7.515625 \nL 36.8125 7.515625 \nL 36.8125 0 \nL 27.59375 0 \nQ 17.1875 0 13.234375 3.875 \nQ 9.28125 7.765625 9.28125 18.015625 \nL 9.28125 47.703125 \nL 2.6875 47.703125 \nL 2.6875 54.6875 \nL 9.28125 54.6875 \nL 9.28125 70.21875 \nz\n\" id=\"DejaVuSans-116\"/>\n       <path d=\"M 8.5 21.578125 \nL 8.5 54.6875 \nL 17.484375 54.6875 \nL 17.484375 21.921875 \nQ 17.484375 14.15625 20.5 10.265625 \nQ 23.53125 6.390625 29.59375 6.390625 \nQ 36.859375 6.390625 41.078125 11.03125 \nQ 45.3125 15.671875 45.3125 23.6875 \nL 45.3125 54.6875 \nL 54.296875 54.6875 \nL 54.296875 0 \nL 45.3125 0 \nL 45.3125 8.40625 \nQ 42.046875 3.421875 37.71875 1 \nQ 33.40625 -1.421875 27.6875 -1.421875 \nQ 18.265625 -1.421875 13.375 4.4375 \nQ 8.5 10.296875 8.5 21.578125 \nz\nM 31.109375 56 \nz\n\" id=\"DejaVuSans-117\"/>\n       <path d=\"M 41.109375 46.296875 \nQ 39.59375 47.171875 37.8125 47.578125 \nQ 36.03125 48 33.890625 48 \nQ 26.265625 48 22.1875 43.046875 \nQ 18.109375 38.09375 18.109375 28.8125 \nL 18.109375 0 \nL 9.078125 0 \nL 9.078125 54.6875 \nL 18.109375 54.6875 \nL 18.109375 46.1875 \nQ 20.953125 51.171875 25.484375 53.578125 \nQ 30.03125 56 36.53125 56 \nQ 37.453125 56 38.578125 55.875 \nQ 39.703125 55.765625 41.0625 55.515625 \nz\n\" id=\"DejaVuSans-114\"/>\n       <path id=\"DejaVuSans-32\"/>\n       <path d=\"M 9.421875 54.6875 \nL 18.40625 54.6875 \nL 18.40625 0 \nL 9.421875 0 \nz\nM 9.421875 75.984375 \nL 18.40625 75.984375 \nL 18.40625 64.59375 \nL 9.421875 64.59375 \nz\n\" id=\"DejaVuSans-105\"/>\n       <path d=\"M 52 44.1875 \nQ 55.375 50.25 60.0625 53.125 \nQ 64.75 56 71.09375 56 \nQ 79.640625 56 84.28125 50.015625 \nQ 88.921875 44.046875 88.921875 33.015625 \nL 88.921875 0 \nL 79.890625 0 \nL 79.890625 32.71875 \nQ 79.890625 40.578125 77.09375 44.375 \nQ 74.3125 48.1875 68.609375 48.1875 \nQ 61.625 48.1875 57.5625 43.546875 \nQ 53.515625 38.921875 53.515625 30.90625 \nL 53.515625 0 \nL 44.484375 0 \nL 44.484375 32.71875 \nQ 44.484375 40.625 41.703125 44.40625 \nQ 38.921875 48.1875 33.109375 48.1875 \nQ 26.21875 48.1875 22.15625 43.53125 \nQ 18.109375 38.875 18.109375 30.90625 \nL 18.109375 0 \nL 9.078125 0 \nL 9.078125 54.6875 \nL 18.109375 54.6875 \nL 18.109375 46.1875 \nQ 21.1875 51.21875 25.484375 53.609375 \nQ 29.78125 56 35.6875 56 \nQ 41.65625 56 45.828125 52.96875 \nQ 50 49.953125 52 44.1875 \nz\n\" id=\"DejaVuSans-109\"/>\n       <path d=\"M 18.109375 8.203125 \nL 18.109375 -20.796875 \nL 9.078125 -20.796875 \nL 9.078125 54.6875 \nL 18.109375 54.6875 \nL 18.109375 46.390625 \nQ 20.953125 51.265625 25.265625 53.625 \nQ 29.59375 56 35.59375 56 \nQ 45.5625 56 51.78125 48.09375 \nQ 58.015625 40.1875 58.015625 27.296875 \nQ 58.015625 14.40625 51.78125 6.484375 \nQ 45.5625 -1.421875 35.59375 -1.421875 \nQ 29.59375 -1.421875 25.265625 0.953125 \nQ 20.953125 3.328125 18.109375 8.203125 \nz\nM 48.6875 27.296875 \nQ 48.6875 37.203125 44.609375 42.84375 \nQ 40.53125 48.484375 33.40625 48.484375 \nQ 26.265625 48.484375 22.1875 42.84375 \nQ 18.109375 37.203125 18.109375 27.296875 \nQ 18.109375 17.390625 22.1875 11.75 \nQ 26.265625 6.109375 33.40625 6.109375 \nQ 40.53125 6.109375 44.609375 11.75 \nQ 48.6875 17.390625 48.6875 27.296875 \nz\n\" id=\"DejaVuSans-112\"/>\n       <path d=\"M 30.609375 48.390625 \nQ 23.390625 48.390625 19.1875 42.75 \nQ 14.984375 37.109375 14.984375 27.296875 \nQ 14.984375 17.484375 19.15625 11.84375 \nQ 23.34375 6.203125 30.609375 6.203125 \nQ 37.796875 6.203125 41.984375 11.859375 \nQ 46.1875 17.53125 46.1875 27.296875 \nQ 46.1875 37.015625 41.984375 42.703125 \nQ 37.796875 48.390625 30.609375 48.390625 \nz\nM 30.609375 56 \nQ 42.328125 56 49.015625 48.375 \nQ 55.71875 40.765625 55.71875 27.296875 \nQ 55.71875 13.875 49.015625 6.21875 \nQ 42.328125 -1.421875 30.609375 -1.421875 \nQ 18.84375 -1.421875 12.171875 6.21875 \nQ 5.515625 13.875 5.515625 27.296875 \nQ 5.515625 40.765625 12.171875 48.375 \nQ 18.84375 56 30.609375 56 \nz\n\" id=\"DejaVuSans-111\"/>\n       <path d=\"M 54.890625 33.015625 \nL 54.890625 0 \nL 45.90625 0 \nL 45.90625 32.71875 \nQ 45.90625 40.484375 42.875 44.328125 \nQ 39.84375 48.1875 33.796875 48.1875 \nQ 26.515625 48.1875 22.3125 43.546875 \nQ 18.109375 38.921875 18.109375 30.90625 \nL 18.109375 0 \nL 9.078125 0 \nL 9.078125 54.6875 \nL 18.109375 54.6875 \nL 18.109375 46.1875 \nQ 21.34375 51.125 25.703125 53.5625 \nQ 30.078125 56 35.796875 56 \nQ 45.21875 56 50.046875 50.171875 \nQ 54.890625 44.34375 54.890625 33.015625 \nz\n\" id=\"DejaVuSans-110\"/>\n       <path d=\"M 48.78125 52.59375 \nL 48.78125 44.1875 \nQ 44.96875 46.296875 41.140625 47.34375 \nQ 37.3125 48.390625 33.40625 48.390625 \nQ 24.65625 48.390625 19.8125 42.84375 \nQ 14.984375 37.3125 14.984375 27.296875 \nQ 14.984375 17.28125 19.8125 11.734375 \nQ 24.65625 6.203125 33.40625 6.203125 \nQ 37.3125 6.203125 41.140625 7.25 \nQ 44.96875 8.296875 48.78125 10.40625 \nL 48.78125 2.09375 \nQ 45.015625 0.34375 40.984375 -0.53125 \nQ 36.96875 -1.421875 32.421875 -1.421875 \nQ 20.0625 -1.421875 12.78125 6.34375 \nQ 5.515625 14.109375 5.515625 27.296875 \nQ 5.515625 40.671875 12.859375 48.328125 \nQ 20.21875 56 33.015625 56 \nQ 37.15625 56 41.109375 55.140625 \nQ 45.0625 54.296875 48.78125 52.59375 \nz\n\" id=\"DejaVuSans-99\"/>\n      </defs>\n      <use xlink:href=\"#DejaVuSans-102\"/>\n      <use x=\"35.205078\" xlink:href=\"#DejaVuSans-101\"/>\n      <use x=\"96.728516\" xlink:href=\"#DejaVuSans-97\"/>\n      <use x=\"158.007812\" xlink:href=\"#DejaVuSans-116\"/>\n      <use x=\"197.216797\" xlink:href=\"#DejaVuSans-117\"/>\n      <use x=\"260.595703\" xlink:href=\"#DejaVuSans-114\"/>\n      <use x=\"299.458984\" xlink:href=\"#DejaVuSans-101\"/>\n      <use x=\"360.982422\" xlink:href=\"#DejaVuSans-32\"/>\n      <use x=\"392.769531\" xlink:href=\"#DejaVuSans-105\"/>\n      <use x=\"420.552734\" xlink:href=\"#DejaVuSans-109\"/>\n      <use x=\"517.964844\" xlink:href=\"#DejaVuSans-112\"/>\n      <use x=\"581.441406\" xlink:href=\"#DejaVuSans-111\"/>\n      <use x=\"642.623047\" xlink:href=\"#DejaVuSans-114\"/>\n      <use x=\"683.736328\" xlink:href=\"#DejaVuSans-116\"/>\n      <use x=\"722.945312\" xlink:href=\"#DejaVuSans-97\"/>\n      <use x=\"784.224609\" xlink:href=\"#DejaVuSans-110\"/>\n      <use x=\"847.603516\" xlink:href=\"#DejaVuSans-99\"/>\n      <use x=\"902.583984\" xlink:href=\"#DejaVuSans-101\"/>\n     </g>\n    </g>\n   </g>\n   <g id=\"matplotlib.axis_2\">\n    <g id=\"ytick_1\">\n     <g id=\"line2d_17\">\n      <path clip-path=\"url(#pfe392ea30f)\" d=\"M 74.398438 511.971429 \nL 855.598438 511.971429 \n\" style=\"fill:none;stroke:#b0b0b0;stroke-linecap:square;stroke-width:0.8;\"/>\n     </g>\n     <g id=\"line2d_18\">\n      <defs>\n       <path d=\"M 0 0 \nL -3.5 0 \n\" id=\"mfa3cc2b8c1\" style=\"stroke:#000000;stroke-width:0.8;\"/>\n      </defs>\n      <g>\n       <use style=\"stroke:#000000;stroke-width:0.8;\" x=\"74.398438\" xlink:href=\"#mfa3cc2b8c1\" y=\"511.971429\"/>\n      </g>\n     </g>\n     <g id=\"text_10\">\n      <!-- CRIM -->\n      <g transform=\"translate(41.889062 515.770647)scale(0.1 -0.1)\">\n       <defs>\n        <path d=\"M 64.40625 67.28125 \nL 64.40625 56.890625 \nQ 59.421875 61.53125 53.78125 63.8125 \nQ 48.140625 66.109375 41.796875 66.109375 \nQ 29.296875 66.109375 22.65625 58.46875 \nQ 16.015625 50.828125 16.015625 36.375 \nQ 16.015625 21.96875 22.65625 14.328125 \nQ 29.296875 6.6875 41.796875 6.6875 \nQ 48.140625 6.6875 53.78125 8.984375 \nQ 59.421875 11.28125 64.40625 15.921875 \nL 64.40625 5.609375 \nQ 59.234375 2.09375 53.4375 0.328125 \nQ 47.65625 -1.421875 41.21875 -1.421875 \nQ 24.65625 -1.421875 15.125 8.703125 \nQ 5.609375 18.84375 5.609375 36.375 \nQ 5.609375 53.953125 15.125 64.078125 \nQ 24.65625 74.21875 41.21875 74.21875 \nQ 47.75 74.21875 53.53125 72.484375 \nQ 59.328125 70.75 64.40625 67.28125 \nz\n\" id=\"DejaVuSans-67\"/>\n        <path d=\"M 44.390625 34.1875 \nQ 47.5625 33.109375 50.5625 29.59375 \nQ 53.5625 26.078125 56.59375 19.921875 \nL 66.609375 0 \nL 56 0 \nL 46.6875 18.703125 \nQ 43.0625 26.03125 39.671875 28.421875 \nQ 36.28125 30.8125 30.421875 30.8125 \nL 19.671875 30.8125 \nL 19.671875 0 \nL 9.8125 0 \nL 9.8125 72.90625 \nL 32.078125 72.90625 \nQ 44.578125 72.90625 50.734375 67.671875 \nQ 56.890625 62.453125 56.890625 51.90625 \nQ 56.890625 45.015625 53.6875 40.46875 \nQ 50.484375 35.9375 44.390625 34.1875 \nz\nM 19.671875 64.796875 \nL 19.671875 38.921875 \nL 32.078125 38.921875 \nQ 39.203125 38.921875 42.84375 42.21875 \nQ 46.484375 45.515625 46.484375 51.90625 \nQ 46.484375 58.296875 42.84375 61.546875 \nQ 39.203125 64.796875 32.078125 64.796875 \nz\n\" id=\"DejaVuSans-82\"/>\n        <path d=\"M 9.8125 72.90625 \nL 19.671875 72.90625 \nL 19.671875 0 \nL 9.8125 0 \nz\n\" id=\"DejaVuSans-73\"/>\n        <path d=\"M 9.8125 72.90625 \nL 24.515625 72.90625 \nL 43.109375 23.296875 \nL 61.8125 72.90625 \nL 76.515625 72.90625 \nL 76.515625 0 \nL 66.890625 0 \nL 66.890625 64.015625 \nL 48.09375 14.015625 \nL 38.1875 14.015625 \nL 19.390625 64.015625 \nL 19.390625 0 \nL 9.8125 0 \nz\n\" id=\"DejaVuSans-77\"/>\n       </defs>\n       <use xlink:href=\"#DejaVuSans-67\"/>\n       <use x=\"69.824219\" xlink:href=\"#DejaVuSans-82\"/>\n       <use x=\"139.306641\" xlink:href=\"#DejaVuSans-73\"/>\n       <use x=\"168.798828\" xlink:href=\"#DejaVuSans-77\"/>\n      </g>\n     </g>\n    </g>\n    <g id=\"ytick_2\">\n     <g id=\"line2d_19\">\n      <path clip-path=\"url(#pfe392ea30f)\" d=\"M 74.398438 473.142857 \nL 855.598438 473.142857 \n\" style=\"fill:none;stroke:#b0b0b0;stroke-linecap:square;stroke-width:0.8;\"/>\n     </g>\n     <g id=\"line2d_20\">\n      <g>\n       <use style=\"stroke:#000000;stroke-width:0.8;\" x=\"74.398438\" xlink:href=\"#mfa3cc2b8c1\" y=\"473.142857\"/>\n      </g>\n     </g>\n     <g id=\"text_11\">\n      <!-- ZN -->\n      <g transform=\"translate(53.067188 476.942076)scale(0.1 -0.1)\">\n       <defs>\n        <path d=\"M 5.609375 72.90625 \nL 62.890625 72.90625 \nL 62.890625 65.375 \nL 16.796875 8.296875 \nL 64.015625 8.296875 \nL 64.015625 0 \nL 4.5 0 \nL 4.5 7.515625 \nL 50.59375 64.59375 \nL 5.609375 64.59375 \nz\n\" id=\"DejaVuSans-90\"/>\n        <path d=\"M 9.8125 72.90625 \nL 23.09375 72.90625 \nL 55.421875 11.921875 \nL 55.421875 72.90625 \nL 64.984375 72.90625 \nL 64.984375 0 \nL 51.703125 0 \nL 19.390625 60.984375 \nL 19.390625 0 \nL 9.8125 0 \nz\n\" id=\"DejaVuSans-78\"/>\n       </defs>\n       <use xlink:href=\"#DejaVuSans-90\"/>\n       <use x=\"68.505859\" xlink:href=\"#DejaVuSans-78\"/>\n      </g>\n     </g>\n    </g>\n    <g id=\"ytick_3\">\n     <g id=\"line2d_21\">\n      <path clip-path=\"url(#pfe392ea30f)\" d=\"M 74.398438 434.314286 \nL 855.598438 434.314286 \n\" style=\"fill:none;stroke:#b0b0b0;stroke-linecap:square;stroke-width:0.8;\"/>\n     </g>\n     <g id=\"line2d_22\">\n      <g>\n       <use style=\"stroke:#000000;stroke-width:0.8;\" x=\"74.398438\" xlink:href=\"#mfa3cc2b8c1\" y=\"434.314286\"/>\n      </g>\n     </g>\n     <g id=\"text_12\">\n      <!-- INDUS -->\n      <g transform=\"translate(35.6 438.113504)scale(0.1 -0.1)\">\n       <defs>\n        <path d=\"M 19.671875 64.796875 \nL 19.671875 8.109375 \nL 31.59375 8.109375 \nQ 46.6875 8.109375 53.6875 14.9375 \nQ 60.6875 21.78125 60.6875 36.53125 \nQ 60.6875 51.171875 53.6875 57.984375 \nQ 46.6875 64.796875 31.59375 64.796875 \nz\nM 9.8125 72.90625 \nL 30.078125 72.90625 \nQ 51.265625 72.90625 61.171875 64.09375 \nQ 71.09375 55.28125 71.09375 36.53125 \nQ 71.09375 17.671875 61.125 8.828125 \nQ 51.171875 0 30.078125 0 \nL 9.8125 0 \nz\n\" id=\"DejaVuSans-68\"/>\n        <path d=\"M 8.6875 72.90625 \nL 18.609375 72.90625 \nL 18.609375 28.609375 \nQ 18.609375 16.890625 22.84375 11.734375 \nQ 27.09375 6.59375 36.625 6.59375 \nQ 46.09375 6.59375 50.34375 11.734375 \nQ 54.59375 16.890625 54.59375 28.609375 \nL 54.59375 72.90625 \nL 64.5 72.90625 \nL 64.5 27.390625 \nQ 64.5 13.140625 57.4375 5.859375 \nQ 50.390625 -1.421875 36.625 -1.421875 \nQ 22.796875 -1.421875 15.734375 5.859375 \nQ 8.6875 13.140625 8.6875 27.390625 \nz\n\" id=\"DejaVuSans-85\"/>\n        <path d=\"M 53.515625 70.515625 \nL 53.515625 60.890625 \nQ 47.90625 63.578125 42.921875 64.890625 \nQ 37.9375 66.21875 33.296875 66.21875 \nQ 25.25 66.21875 20.875 63.09375 \nQ 16.5 59.96875 16.5 54.203125 \nQ 16.5 49.359375 19.40625 46.890625 \nQ 22.3125 44.4375 30.421875 42.921875 \nL 36.375 41.703125 \nQ 47.40625 39.59375 52.65625 34.296875 \nQ 57.90625 29 57.90625 20.125 \nQ 57.90625 9.515625 50.796875 4.046875 \nQ 43.703125 -1.421875 29.984375 -1.421875 \nQ 24.8125 -1.421875 18.96875 -0.25 \nQ 13.140625 0.921875 6.890625 3.21875 \nL 6.890625 13.375 \nQ 12.890625 10.015625 18.65625 8.296875 \nQ 24.421875 6.59375 29.984375 6.59375 \nQ 38.421875 6.59375 43.015625 9.90625 \nQ 47.609375 13.234375 47.609375 19.390625 \nQ 47.609375 24.75 44.3125 27.78125 \nQ 41.015625 30.8125 33.5 32.328125 \nL 27.484375 33.5 \nQ 16.453125 35.6875 11.515625 40.375 \nQ 6.59375 45.0625 6.59375 53.421875 \nQ 6.59375 63.09375 13.40625 68.65625 \nQ 20.21875 74.21875 32.171875 74.21875 \nQ 37.3125 74.21875 42.625 73.28125 \nQ 47.953125 72.359375 53.515625 70.515625 \nz\n\" id=\"DejaVuSans-83\"/>\n       </defs>\n       <use xlink:href=\"#DejaVuSans-73\"/>\n       <use x=\"29.492188\" xlink:href=\"#DejaVuSans-78\"/>\n       <use x=\"104.296875\" xlink:href=\"#DejaVuSans-68\"/>\n       <use x=\"181.298828\" xlink:href=\"#DejaVuSans-85\"/>\n       <use x=\"254.492188\" xlink:href=\"#DejaVuSans-83\"/>\n      </g>\n     </g>\n    </g>\n    <g id=\"ytick_4\">\n     <g id=\"line2d_23\">\n      <path clip-path=\"url(#pfe392ea30f)\" d=\"M 74.398438 395.485714 \nL 855.598438 395.485714 \n\" style=\"fill:none;stroke:#b0b0b0;stroke-linecap:square;stroke-width:0.8;\"/>\n     </g>\n     <g id=\"line2d_24\">\n      <g>\n       <use style=\"stroke:#000000;stroke-width:0.8;\" x=\"74.398438\" xlink:href=\"#mfa3cc2b8c1\" y=\"395.485714\"/>\n      </g>\n     </g>\n     <g id=\"text_13\">\n      <!-- CHAS -->\n      <g transform=\"translate(39.70625 399.284933)scale(0.1 -0.1)\">\n       <defs>\n        <path d=\"M 9.8125 72.90625 \nL 19.671875 72.90625 \nL 19.671875 43.015625 \nL 55.515625 43.015625 \nL 55.515625 72.90625 \nL 65.375 72.90625 \nL 65.375 0 \nL 55.515625 0 \nL 55.515625 34.71875 \nL 19.671875 34.71875 \nL 19.671875 0 \nL 9.8125 0 \nz\n\" id=\"DejaVuSans-72\"/>\n        <path d=\"M 34.1875 63.1875 \nL 20.796875 26.90625 \nL 47.609375 26.90625 \nz\nM 28.609375 72.90625 \nL 39.796875 72.90625 \nL 67.578125 0 \nL 57.328125 0 \nL 50.6875 18.703125 \nL 17.828125 18.703125 \nL 11.1875 0 \nL 0.78125 0 \nz\n\" id=\"DejaVuSans-65\"/>\n       </defs>\n       <use xlink:href=\"#DejaVuSans-67\"/>\n       <use x=\"69.824219\" xlink:href=\"#DejaVuSans-72\"/>\n       <use x=\"145.019531\" xlink:href=\"#DejaVuSans-65\"/>\n       <use x=\"213.427734\" xlink:href=\"#DejaVuSans-83\"/>\n      </g>\n     </g>\n    </g>\n    <g id=\"ytick_5\">\n     <g id=\"line2d_25\">\n      <path clip-path=\"url(#pfe392ea30f)\" d=\"M 74.398438 356.657143 \nL 855.598438 356.657143 \n\" style=\"fill:none;stroke:#b0b0b0;stroke-linecap:square;stroke-width:0.8;\"/>\n     </g>\n     <g id=\"line2d_26\">\n      <g>\n       <use style=\"stroke:#000000;stroke-width:0.8;\" x=\"74.398438\" xlink:href=\"#mfa3cc2b8c1\" y=\"356.657143\"/>\n      </g>\n     </g>\n     <g id=\"text_14\">\n      <!-- NOX -->\n      <g transform=\"translate(45.832813 360.456362)scale(0.1 -0.1)\">\n       <defs>\n        <path d=\"M 39.40625 66.21875 \nQ 28.65625 66.21875 22.328125 58.203125 \nQ 16.015625 50.203125 16.015625 36.375 \nQ 16.015625 22.609375 22.328125 14.59375 \nQ 28.65625 6.59375 39.40625 6.59375 \nQ 50.140625 6.59375 56.421875 14.59375 \nQ 62.703125 22.609375 62.703125 36.375 \nQ 62.703125 50.203125 56.421875 58.203125 \nQ 50.140625 66.21875 39.40625 66.21875 \nz\nM 39.40625 74.21875 \nQ 54.734375 74.21875 63.90625 63.9375 \nQ 73.09375 53.65625 73.09375 36.375 \nQ 73.09375 19.140625 63.90625 8.859375 \nQ 54.734375 -1.421875 39.40625 -1.421875 \nQ 24.03125 -1.421875 14.8125 8.828125 \nQ 5.609375 19.09375 5.609375 36.375 \nQ 5.609375 53.65625 14.8125 63.9375 \nQ 24.03125 74.21875 39.40625 74.21875 \nz\n\" id=\"DejaVuSans-79\"/>\n        <path d=\"M 6.296875 72.90625 \nL 16.890625 72.90625 \nL 35.015625 45.796875 \nL 53.21875 72.90625 \nL 63.8125 72.90625 \nL 40.375 37.890625 \nL 65.375 0 \nL 54.78125 0 \nL 34.28125 31 \nL 13.625 0 \nL 2.984375 0 \nL 29 38.921875 \nz\n\" id=\"DejaVuSans-88\"/>\n       </defs>\n       <use xlink:href=\"#DejaVuSans-78\"/>\n       <use x=\"74.804688\" xlink:href=\"#DejaVuSans-79\"/>\n       <use x=\"147.140625\" xlink:href=\"#DejaVuSans-88\"/>\n      </g>\n     </g>\n    </g>\n    <g id=\"ytick_6\">\n     <g id=\"line2d_27\">\n      <path clip-path=\"url(#pfe392ea30f)\" d=\"M 74.398438 317.828571 \nL 855.598438 317.828571 \n\" style=\"fill:none;stroke:#b0b0b0;stroke-linecap:square;stroke-width:0.8;\"/>\n     </g>\n     <g id=\"line2d_28\">\n      <g>\n       <use style=\"stroke:#000000;stroke-width:0.8;\" x=\"74.398438\" xlink:href=\"#mfa3cc2b8c1\" y=\"317.828571\"/>\n      </g>\n     </g>\n     <g id=\"text_15\">\n      <!-- RM -->\n      <g transform=\"translate(51.821875 321.62779)scale(0.1 -0.1)\">\n       <use xlink:href=\"#DejaVuSans-82\"/>\n       <use x=\"69.482422\" xlink:href=\"#DejaVuSans-77\"/>\n      </g>\n     </g>\n    </g>\n    <g id=\"ytick_7\">\n     <g id=\"line2d_29\">\n      <path clip-path=\"url(#pfe392ea30f)\" d=\"M 74.398438 279 \nL 855.598438 279 \n\" style=\"fill:none;stroke:#b0b0b0;stroke-linecap:square;stroke-width:0.8;\"/>\n     </g>\n     <g id=\"line2d_30\">\n      <g>\n       <use style=\"stroke:#000000;stroke-width:0.8;\" x=\"74.398438\" xlink:href=\"#mfa3cc2b8c1\" y=\"279\"/>\n      </g>\n     </g>\n     <g id=\"text_16\">\n      <!-- AGE -->\n      <g transform=\"translate(46.665625 282.799219)scale(0.1 -0.1)\">\n       <defs>\n        <path d=\"M 59.515625 10.40625 \nL 59.515625 29.984375 \nL 43.40625 29.984375 \nL 43.40625 38.09375 \nL 69.28125 38.09375 \nL 69.28125 6.78125 \nQ 63.578125 2.734375 56.6875 0.65625 \nQ 49.8125 -1.421875 42 -1.421875 \nQ 24.90625 -1.421875 15.25 8.5625 \nQ 5.609375 18.5625 5.609375 36.375 \nQ 5.609375 54.25 15.25 64.234375 \nQ 24.90625 74.21875 42 74.21875 \nQ 49.125 74.21875 55.546875 72.453125 \nQ 61.96875 70.703125 67.390625 67.28125 \nL 67.390625 56.78125 \nQ 61.921875 61.421875 55.765625 63.765625 \nQ 49.609375 66.109375 42.828125 66.109375 \nQ 29.4375 66.109375 22.71875 58.640625 \nQ 16.015625 51.171875 16.015625 36.375 \nQ 16.015625 21.625 22.71875 14.15625 \nQ 29.4375 6.6875 42.828125 6.6875 \nQ 48.046875 6.6875 52.140625 7.59375 \nQ 56.25 8.5 59.515625 10.40625 \nz\n\" id=\"DejaVuSans-71\"/>\n        <path d=\"M 9.8125 72.90625 \nL 55.90625 72.90625 \nL 55.90625 64.59375 \nL 19.671875 64.59375 \nL 19.671875 43.015625 \nL 54.390625 43.015625 \nL 54.390625 34.71875 \nL 19.671875 34.71875 \nL 19.671875 8.296875 \nL 56.78125 8.296875 \nL 56.78125 0 \nL 9.8125 0 \nz\n\" id=\"DejaVuSans-69\"/>\n       </defs>\n       <use xlink:href=\"#DejaVuSans-65\"/>\n       <use x=\"66.658203\" xlink:href=\"#DejaVuSans-71\"/>\n       <use x=\"144.148438\" xlink:href=\"#DejaVuSans-69\"/>\n      </g>\n     </g>\n    </g>\n    <g id=\"ytick_8\">\n     <g id=\"line2d_31\">\n      <path clip-path=\"url(#pfe392ea30f)\" d=\"M 74.398438 240.171429 \nL 855.598438 240.171429 \n\" style=\"fill:none;stroke:#b0b0b0;stroke-linecap:square;stroke-width:0.8;\"/>\n     </g>\n     <g id=\"line2d_32\">\n      <g>\n       <use style=\"stroke:#000000;stroke-width:0.8;\" x=\"74.398438\" xlink:href=\"#mfa3cc2b8c1\" y=\"240.171429\"/>\n      </g>\n     </g>\n     <g id=\"text_17\">\n      <!-- DIS -->\n      <g transform=\"translate(50.4 243.970647)scale(0.1 -0.1)\">\n       <use xlink:href=\"#DejaVuSans-68\"/>\n       <use x=\"77.001953\" xlink:href=\"#DejaVuSans-73\"/>\n       <use x=\"106.494141\" xlink:href=\"#DejaVuSans-83\"/>\n      </g>\n     </g>\n    </g>\n    <g id=\"ytick_9\">\n     <g id=\"line2d_33\">\n      <path clip-path=\"url(#pfe392ea30f)\" d=\"M 74.398438 201.342857 \nL 855.598438 201.342857 \n\" style=\"fill:none;stroke:#b0b0b0;stroke-linecap:square;stroke-width:0.8;\"/>\n     </g>\n     <g id=\"line2d_34\">\n      <g>\n       <use style=\"stroke:#000000;stroke-width:0.8;\" x=\"74.398438\" xlink:href=\"#mfa3cc2b8c1\" y=\"201.342857\"/>\n      </g>\n     </g>\n     <g id=\"text_18\">\n      <!-- RAD -->\n      <g transform=\"translate(46.309375 205.142076)scale(0.1 -0.1)\">\n       <use xlink:href=\"#DejaVuSans-82\"/>\n       <use x=\"65.482422\" xlink:href=\"#DejaVuSans-65\"/>\n       <use x=\"133.890625\" xlink:href=\"#DejaVuSans-68\"/>\n      </g>\n     </g>\n    </g>\n    <g id=\"ytick_10\">\n     <g id=\"line2d_35\">\n      <path clip-path=\"url(#pfe392ea30f)\" d=\"M 74.398438 162.514286 \nL 855.598438 162.514286 \n\" style=\"fill:none;stroke:#b0b0b0;stroke-linecap:square;stroke-width:0.8;\"/>\n     </g>\n     <g id=\"line2d_36\">\n      <g>\n       <use style=\"stroke:#000000;stroke-width:0.8;\" x=\"74.398438\" xlink:href=\"#mfa3cc2b8c1\" y=\"162.514286\"/>\n      </g>\n     </g>\n     <g id=\"text_19\">\n      <!-- TAX -->\n      <g transform=\"translate(48.375 166.313504)scale(0.1 -0.1)\">\n       <defs>\n        <path d=\"M -0.296875 72.90625 \nL 61.375 72.90625 \nL 61.375 64.59375 \nL 35.5 64.59375 \nL 35.5 0 \nL 25.59375 0 \nL 25.59375 64.59375 \nL -0.296875 64.59375 \nz\n\" id=\"DejaVuSans-84\"/>\n       </defs>\n       <use xlink:href=\"#DejaVuSans-84\"/>\n       <use x=\"53.333984\" xlink:href=\"#DejaVuSans-65\"/>\n       <use x=\"121.742188\" xlink:href=\"#DejaVuSans-88\"/>\n      </g>\n     </g>\n    </g>\n    <g id=\"ytick_11\">\n     <g id=\"line2d_37\">\n      <path clip-path=\"url(#pfe392ea30f)\" d=\"M 74.398438 123.685714 \nL 855.598438 123.685714 \n\" style=\"fill:none;stroke:#b0b0b0;stroke-linecap:square;stroke-width:0.8;\"/>\n     </g>\n     <g id=\"line2d_38\">\n      <g>\n       <use style=\"stroke:#000000;stroke-width:0.8;\" x=\"74.398438\" xlink:href=\"#mfa3cc2b8c1\" y=\"123.685714\"/>\n      </g>\n     </g>\n     <g id=\"text_20\">\n      <!-- PTRATIO -->\n      <g transform=\"translate(25.717187 127.484933)scale(0.1 -0.1)\">\n       <defs>\n        <path d=\"M 19.671875 64.796875 \nL 19.671875 37.40625 \nL 32.078125 37.40625 \nQ 38.96875 37.40625 42.71875 40.96875 \nQ 46.484375 44.53125 46.484375 51.125 \nQ 46.484375 57.671875 42.71875 61.234375 \nQ 38.96875 64.796875 32.078125 64.796875 \nz\nM 9.8125 72.90625 \nL 32.078125 72.90625 \nQ 44.34375 72.90625 50.609375 67.359375 \nQ 56.890625 61.8125 56.890625 51.125 \nQ 56.890625 40.328125 50.609375 34.8125 \nQ 44.34375 29.296875 32.078125 29.296875 \nL 19.671875 29.296875 \nL 19.671875 0 \nL 9.8125 0 \nz\n\" id=\"DejaVuSans-80\"/>\n       </defs>\n       <use xlink:href=\"#DejaVuSans-80\"/>\n       <use x=\"60.302734\" xlink:href=\"#DejaVuSans-84\"/>\n       <use x=\"121.386719\" xlink:href=\"#DejaVuSans-82\"/>\n       <use x=\"186.869141\" xlink:href=\"#DejaVuSans-65\"/>\n       <use x=\"247.527344\" xlink:href=\"#DejaVuSans-84\"/>\n       <use x=\"308.611328\" xlink:href=\"#DejaVuSans-73\"/>\n       <use x=\"338.103516\" xlink:href=\"#DejaVuSans-79\"/>\n      </g>\n     </g>\n    </g>\n    <g id=\"ytick_12\">\n     <g id=\"line2d_39\">\n      <path clip-path=\"url(#pfe392ea30f)\" d=\"M 74.398438 84.857143 \nL 855.598438 84.857143 \n\" style=\"fill:none;stroke:#b0b0b0;stroke-linecap:square;stroke-width:0.8;\"/>\n     </g>\n     <g id=\"line2d_40\">\n      <g>\n       <use style=\"stroke:#000000;stroke-width:0.8;\" x=\"74.398438\" xlink:href=\"#mfa3cc2b8c1\" y=\"84.857143\"/>\n      </g>\n     </g>\n     <g id=\"text_21\">\n      <!-- B -->\n      <g transform=\"translate(60.5375 88.656362)scale(0.1 -0.1)\">\n       <defs>\n        <path d=\"M 19.671875 34.8125 \nL 19.671875 8.109375 \nL 35.5 8.109375 \nQ 43.453125 8.109375 47.28125 11.40625 \nQ 51.125 14.703125 51.125 21.484375 \nQ 51.125 28.328125 47.28125 31.5625 \nQ 43.453125 34.8125 35.5 34.8125 \nz\nM 19.671875 64.796875 \nL 19.671875 42.828125 \nL 34.28125 42.828125 \nQ 41.5 42.828125 45.03125 45.53125 \nQ 48.578125 48.25 48.578125 53.8125 \nQ 48.578125 59.328125 45.03125 62.0625 \nQ 41.5 64.796875 34.28125 64.796875 \nz\nM 9.8125 72.90625 \nL 35.015625 72.90625 \nQ 46.296875 72.90625 52.390625 68.21875 \nQ 58.5 63.53125 58.5 54.890625 \nQ 58.5 48.1875 55.375 44.234375 \nQ 52.25 40.28125 46.1875 39.3125 \nQ 53.46875 37.75 57.5 32.78125 \nQ 61.53125 27.828125 61.53125 20.40625 \nQ 61.53125 10.640625 54.890625 5.3125 \nQ 48.25 0 35.984375 0 \nL 9.8125 0 \nz\n\" id=\"DejaVuSans-66\"/>\n       </defs>\n       <use xlink:href=\"#DejaVuSans-66\"/>\n      </g>\n     </g>\n    </g>\n    <g id=\"ytick_13\">\n     <g id=\"line2d_41\">\n      <path clip-path=\"url(#pfe392ea30f)\" d=\"M 74.398438 46.028571 \nL 855.598438 46.028571 \n\" style=\"fill:none;stroke:#b0b0b0;stroke-linecap:square;stroke-width:0.8;\"/>\n     </g>\n     <g id=\"line2d_42\">\n      <g>\n       <use style=\"stroke:#000000;stroke-width:0.8;\" x=\"74.398438\" xlink:href=\"#mfa3cc2b8c1\" y=\"46.028571\"/>\n      </g>\n     </g>\n     <g id=\"text_22\">\n      <!-- LSTAT -->\n      <g transform=\"translate(37.971875 49.82779)scale(0.1 -0.1)\">\n       <defs>\n        <path d=\"M 9.8125 72.90625 \nL 19.671875 72.90625 \nL 19.671875 8.296875 \nL 55.171875 8.296875 \nL 55.171875 0 \nL 9.8125 0 \nz\n\" id=\"DejaVuSans-76\"/>\n       </defs>\n       <use xlink:href=\"#DejaVuSans-76\"/>\n       <use x=\"55.712891\" xlink:href=\"#DejaVuSans-83\"/>\n       <use x=\"119.189453\" xlink:href=\"#DejaVuSans-84\"/>\n       <use x=\"172.523438\" xlink:href=\"#DejaVuSans-65\"/>\n       <use x=\"233.181641\" xlink:href=\"#DejaVuSans-84\"/>\n      </g>\n     </g>\n    </g>\n    <g id=\"text_23\">\n     <!-- feature -->\n     <g transform=\"translate(18.597656 306.073828)rotate(-90)scale(0.15 -0.15)\">\n      <use xlink:href=\"#DejaVuSans-102\"/>\n      <use x=\"35.205078\" xlink:href=\"#DejaVuSans-101\"/>\n      <use x=\"96.728516\" xlink:href=\"#DejaVuSans-97\"/>\n      <use x=\"158.007812\" xlink:href=\"#DejaVuSans-116\"/>\n      <use x=\"197.216797\" xlink:href=\"#DejaVuSans-117\"/>\n      <use x=\"260.595703\" xlink:href=\"#DejaVuSans-114\"/>\n      <use x=\"299.458984\" xlink:href=\"#DejaVuSans-101\"/>\n     </g>\n    </g>\n   </g>\n   <g id=\"patch_16\">\n    <path d=\"M 74.398438 550.8 \nL 74.398438 7.2 \n\" style=\"fill:none;stroke:#000000;stroke-linecap:square;stroke-linejoin:miter;stroke-width:0.8;\"/>\n   </g>\n   <g id=\"patch_17\">\n    <path d=\"M 855.598438 550.8 \nL 855.598438 7.2 \n\" style=\"fill:none;stroke:#000000;stroke-linecap:square;stroke-linejoin:miter;stroke-width:0.8;\"/>\n   </g>\n   <g id=\"patch_18\">\n    <path d=\"M 74.398438 550.8 \nL 855.598438 550.8 \n\" style=\"fill:none;stroke:#000000;stroke-linecap:square;stroke-linejoin:miter;stroke-width:0.8;\"/>\n   </g>\n   <g id=\"patch_19\">\n    <path d=\"M 74.398438 7.2 \nL 855.598438 7.2 \n\" style=\"fill:none;stroke:#000000;stroke-linecap:square;stroke-linejoin:miter;stroke-width:0.8;\"/>\n   </g>\n  </g>\n </g>\n <defs>\n  <clipPath id=\"pfe392ea30f\">\n   <rect height=\"543.6\" width=\"781.2\" x=\"74.398438\" y=\"7.2\"/>\n  </clipPath>\n </defs>\n</svg>\n",
      "image/png": "[encoded data removed]"
     },
     "metadata": {
      "needs_background": "light"
     }
    }
   ],
   "source": [
    "n_features = X_train.shape[1]\n",
    "index = np.arange(n_features)\n",
    "plt.figure(figsize=(14, 10))\n",
    "plt.grid(True)\n",
    "plt.barh(index, regressor.feature_importances_, align='center')\n",
    "plt.yticks(index, cols[:-1])\n",
    "plt.ylim(-1, n_features)\n",
    "plt.xlabel(\"feature importance\", size=15)\n",
    "plt.ylabel(\"feature\", size=15)\n",
    "plt.show()\n"
   ]
  },
  {
   "cell_type": "code",
   "execution_count": null,
   "metadata": {},
   "outputs": [],
   "source": []
  }
 ]
}